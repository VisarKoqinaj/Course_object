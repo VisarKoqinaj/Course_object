{
 "cells": [
  {
   "cell_type": "code",
   "execution_count": 26,
   "metadata": {},
   "outputs": [
    {
     "name": "stdout",
     "output_type": "stream",
     "text": [
      "                name  numberrange currency\n",
      "0      Grant Pickett           46   $32.41\n",
      "1         Carl Byers           29   $42.74\n",
      "2         Drew Lynch           14   $42.78\n",
      "3     Riley Anderson           25   $26.83\n",
      "4       Dana Justice           20   $26.65\n",
      "5       Maxwell Bell           41   $33.54\n",
      "6     Linus Mcintosh           44   $13.66\n",
      "7      Robert Norton           11   $39.69\n",
      "8     Jolene Summers           35   $10.06\n",
      "9     Jenette Deleon           43   $30.62\n",
      "10      Curran Boyle           41   $26.12\n",
      "11    Rhiannon Cohen           41   $42.19\n",
      "12    Priscilla Ball           27   $32.43\n",
      "13   Whilemina Leach           22   $10.69\n",
      "14  Quinn Fitzgerald           13   $12.73\n",
      "15      Zeus Gilbert           15   $28.87\n",
      "16   Leonard Hensley           23   $46.50\n",
      "17     Galvin Bolton           43   $37.87\n",
      "18    Len Richardson           15   $35.49\n",
      "19       Katell Sosa           31   $11.84\n",
      "20       Naomi Duffy           15   $45.17\n",
      "21     Wylie Goodwin           42   $44.46\n",
      "22     Stella Rivers           37   $29.46\n",
      "23     Amery Shepard           18   $49.41\n",
      "24    Beau Mcpherson           15   $35.50\n",
      "25     Samantha Best           31   $46.20\n",
      "26      Vaughan Gray           23   $43.20\n",
      "27       Ifeoma Cook           46   $40.56\n",
      "28       Lani Coffey           11   $38.72\n",
      "29  Sylvester Bowman           50   $47.49\n"
     ]
    }
   ],
   "source": [
    "import pandas as pd\n",
    "\n",
    "df = pd.read_csv('hour_rate_dollar.csv')\n",
    "\n",
    "print(df)\n"
   ]
  }
 ],
 "metadata": {
  "kernelspec": {
   "display_name": "Python 3",
   "language": "python",
   "name": "python3"
  },
  "language_info": {
   "codemirror_mode": {
    "name": "ipython",
    "version": 3
   },
   "file_extension": ".py",
   "mimetype": "text/x-python",
   "name": "python",
   "nbconvert_exporter": "python",
   "pygments_lexer": "ipython3",
   "version": "3.11.5"
  }
 },
 "nbformat": 4,
 "nbformat_minor": 2
}
