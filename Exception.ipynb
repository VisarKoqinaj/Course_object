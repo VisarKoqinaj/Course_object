{
 "cells": [
  {
   "cell_type": "code",
   "execution_count": null,
   "metadata": {},
   "outputs": [],
   "source": [
    "while True:\n",
    "    try:\n",
    "        num_1 = input('Enter a number(or \"stop\"):   ')\n",
    "        if num_1.lower()=='stop':\n",
    "            break\n",
    "        num_1 = int(num_1)\n",
    "        num_2 = int(input(\"enter another number:  \"))\n",
    "    \n",
    "        result = num_1 / num_2\n",
    "        print(\"This is the result: \", result)\n",
    "        continue\n",
    "\n",
    "    except Exception as e:\n",
    "        print(\"An error occured:  \",e)\n",
    "        continue"
   ]
  },
  {
   "cell_type": "code",
   "execution_count": null,
   "metadata": {},
   "outputs": [],
   "source": [
    "try:\n",
    "    num_1 = int(input(\"Enter a number:   \"))\n",
    "    num_2 = int(input(\"enter another number:  \"))\n",
    "    \n",
    "    result = num_1 / num_2\n",
    "    print(\"This is the result: \", result)\n",
    "\n",
    "\n",
    "except ValueError:\n",
    "    print(\"the input is not a correct type or format\")\n",
    "except Exception as e:\n",
    "    print(\"An error occured:  \",e)"
   ]
  }
 ],
 "metadata": {
  "language_info": {
   "name": "python"
  }
 },
 "nbformat": 4,
 "nbformat_minor": 2
}
