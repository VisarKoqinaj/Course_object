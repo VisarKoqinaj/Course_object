{
 "cells": [
  {
   "cell_type": "code",
   "execution_count": 1,
   "metadata": {},
   "outputs": [
    {
     "name": "stdout",
     "output_type": "stream",
     "text": [
      "Venus England, 13.0, 33.0, 429.0\n",
      "\n",
      "Burke Bond, 26.0, 43.0, 1118.0\n",
      "\n",
      "Miriam Salas, 5.0, 35.0, 175.0\n",
      "\n",
      "Rajah Mcconnell, 47.0, 29.0, 1464.5\n",
      "\n",
      "Noah Potts, 43.0, 34.0, 1513.0\n",
      "\n",
      "Alma Rosario, 8.0, 40.0, 320.0\n",
      "\n",
      "Herrod Avila, 46.0, 23.0, 1127.0\n",
      "\n",
      "James Harmon, 32.0, 32.0, 1024.0\n",
      "\n",
      "Harrison Nicholson, 30.0, 18.0, 540.0\n",
      "\n",
      "August Sutton, 12.0, 36.0, 432.0\n",
      "\n",
      "Yoko Mcdonald, 34.0, 41.0, 1394.0\n",
      "\n",
      "Silas Baird, 19.0, 48.0, 912.0\n",
      "\n",
      "Deanna Nunez, 18.0, 27.0, 486.0\n",
      "\n",
      "Jacob Miles, 23.0, 16.0, 368.0\n",
      "\n",
      "Shelby Gilbert, 29.0, 16.0, 464.0\n",
      "\n",
      "Amethyst Bradshaw, 26.0, 20.0, 520.0\n",
      "\n",
      "Dara Lane, 39.0, 36.0, 1404.0\n",
      "\n",
      "Lunea Navarro, 37.0, 22.0, 814.0\n",
      "\n",
      "Jamalia Mcgowan, 39.0, 11.0, 429.0\n",
      "\n",
      "Oliver Franklin, 14.0, 19.0, 266.0\n",
      "\n",
      "Philip Dodson, 13.0, 34.0, 442.0\n",
      "\n",
      "Quamar Newman, 49.0, 25.0, 1337.5\n",
      "\n",
      "Genevieve James, 35.0, 27.0, 945.0\n",
      "\n",
      "Donna Hess, 48.0, 16.0, 832.0\n",
      "\n",
      "Sandra Nielsen, 8.0, 14.0, 112.0\n",
      "\n",
      "Zenia Henderson, 32.0, 33.0, 1056.0\n",
      "\n",
      "Roary Trujillo, 38.0, 31.0, 1178.0\n",
      "\n",
      "Rahim Conner, 16.0, 38.0, 608.0\n",
      "\n",
      "Janna Rivas, 24.0, 36.0, 864.0\n",
      "\n",
      "Mona Ashley, 19.0, 38.0, 722.0\n",
      "\n"
     ]
    }
   ],
   "source": [
    "\n",
    "def calculate_wage(rate:float , hour:float):\n",
    "    if hour <=40:\n",
    "        return hour * rate\n",
    "    else:\n",
    "        return 40 * rate + (hour - 40) * 1.5 * rate\n",
    "    \n",
    "\n",
    "\n",
    "file_in = open('Data_in/sample_hour_rate.csv')\n",
    "file_in_readlines = file_in.readlines()\n",
    "file_out = open(\"Data_in/wages.csv\",mode=\"w\")\n",
    "file_out.write(\"name,rate,hour,wage\\n\")\n",
    "\n",
    "for emp in file_in_readlines[1:]:\n",
    "    emp=emp.split(\",\")\n",
    "    rate = float(emp[1])\n",
    "    hour = float(emp[2])\n",
    "    name = str(emp[0])\n",
    "    wage = calculate_wage(rate,hour)\n",
    "    result = f'{name}, {hour}, {rate}, {wage}\\n'\n",
    "    print(result)\n",
    "    file_out.write(result)\n",
    "\n",
    "\n",
    "file_out.close()\n",
    "\n"
   ]
  },
  {
   "cell_type": "code",
   "execution_count": 2,
   "metadata": {},
   "outputs": [
    {
     "name": "stdout",
     "output_type": "stream",
     "text": [
      "Grant Pickett, 32.41, 46.0, $1490.86\n",
      "\n",
      "Carl Byers, 42.74, 29.0, $1279.19\n",
      "\n",
      "Drew Lynch, 42.78, 14.0, $618.38\n",
      "\n",
      "Riley Anderson, 26.83, 25.0, $670.75\n",
      "\n",
      "Dana Justice, 26.65, 20.0, $533.00\n",
      "\n",
      "Maxwell Bell, 33.54, 41.0, $1375.14\n",
      "\n",
      "Linus Mcintosh, 13.66, 44.0, $601.04\n",
      "\n",
      "Robert Norton, 39.69, 11.0, $436.59\n",
      "\n",
      "Jolene Summers, 10.06, 35.0, $352.10\n",
      "\n",
      "Jenette Deleon, 30.62, 43.0, $1316.66\n",
      "\n",
      "Curran Boyle, 26.12, 41.0, $1070.92\n",
      "\n",
      "Rhiannon Cohen, 42.19, 41.0, $1774.68\n",
      "\n",
      "Priscilla Ball, 32.43, 27.0, $875.61\n",
      "\n",
      "Whilemina Leach, 10.69, 22.0, $235.18\n",
      "\n",
      "Quinn Fitzgerald, 12.73, 13.0, $165.49\n",
      "\n",
      "Zeus Gilbert, 28.87, 15.0, $433.05\n",
      "\n",
      "Leonard Hensley, 46.5, 23.0, $1144.25\n",
      "\n",
      "Galvin Bolton, 37.87, 43.0, $1628.41\n",
      "\n",
      "Len Richardson, 35.49, 15.0, $532.35\n",
      "\n",
      "Katell Sosa, 11.84, 31.0, $367.04\n",
      "\n",
      "Naomi Duffy, 45.17, 15.0, $716.33\n",
      "\n",
      "Wylie Goodwin, 44.46, 42.0, $1960.98\n",
      "\n",
      "Stella Rivers, 29.46, 37.0, $1090.02\n",
      "\n",
      "Amery Shepard, 49.41, 18.0, $974.07\n",
      "\n",
      "Beau Mcpherson, 35.5, 15.0, $532.50\n",
      "\n",
      "Samantha Best, 46.2, 31.0, $1528.30\n",
      "\n",
      "Vaughan Gray, 43.2, 23.0, $1030.40\n",
      "\n",
      "Ifeoma Cook, 40.56, 46.0, $1878.64\n",
      "\n",
      "Lani Coffey, 38.72, 11.0, $425.92\n",
      "\n",
      "Sylvester Bowman, 47.49, 50.0, $2561.75\n",
      "\n"
     ]
    }
   ],
   "source": [
    "def calculate_wage(rate:float , hour:float):\n",
    "    if hour <=40:\n",
    "        return hour * rate\n",
    "    else:\n",
    "        return 40 * rate + (hour - 40) * 1.5 * rate\n",
    "    \n",
    "\n",
    "\n",
    "file_in_us = open('Data_in/hour_rate_dollar.csv')\n",
    "file_in_readlines_us = file_in_us.readlines()\n",
    "file_out_us = open(\"Data_in/wages_dollar.csv\",mode=\"w\")\n",
    "file_out_us.write(\"name,rate,hour,wage\\n\")\n",
    "\n",
    "for emp in file_in_readlines_us[1:]:\n",
    "    emp=emp.split(\",\")\n",
    "    rate = float(emp[1])\n",
    "    hour_usd = emp[2]\n",
    "    hour = float(hour_usd[1:])\n",
    "    name = str(emp[0])\n",
    "    wage = calculate_wage(rate,hour)\n",
    "    result = f'{name}, {hour}, {rate}, ${wage:.2f}\\n'\n",
    "    print(result)\n",
    "    file_out_us.write(result)\n",
    "\n",
    "file_out_us.close()\n",
    "\n"
   ]
  },
  {
   "cell_type": "code",
   "execution_count": 21,
   "metadata": {},
   "outputs": [],
   "source": [
    "def exchange_file_read(file_name):\n",
    "    \n",
    "    exhange_rate = open(file_name)\n",
    "    exhange_rate_lines = exhange_rate.readlines()\n",
    "    \n",
    "    rate_dict = {}\n",
    "    for rate in exhange_rate_lines:\n",
    "        sign = rate.split(\",\")[0]\n",
    "        rate = float(rate.split(\",\")[1].replace(\"\\n\",\" \"))\n",
    "        rate_dict[sign]=rate\n",
    "\n",
    "    return rate_dict\n",
    "\n",
    "\n"
   ]
  },
  {
   "cell_type": "code",
   "execution_count": 24,
   "metadata": {},
   "outputs": [
    {
     "ename": "ValueError",
     "evalue": "could not convert string to float: '£'",
     "output_type": "error",
     "traceback": [
      "\u001b[1;31m---------------------------------------------------------------------------\u001b[0m",
      "\u001b[1;31mValueError\u001b[0m                                Traceback (most recent call last)",
      "\u001b[1;32mc:\\Users\\visar\\Course\\Course_object\\file_i_o.ipynb Cell 6\u001b[0m line \u001b[0;36m1\n\u001b[0;32m     <a href='vscode-notebook-cell:/c%3A/Users/visar/Course/Course_object/file_i_o.ipynb#X10sZmlsZQ%3D%3D?line=9'>10</a>\u001b[0m rate_all \u001b[39m=\u001b[39m line_list[\u001b[39m2\u001b[39m]\u001b[39m.\u001b[39mreplace(\u001b[39m'\u001b[39m\u001b[39m\\n\u001b[39;00m\u001b[39m'\u001b[39m,\u001b[39m'\u001b[39m\u001b[39m'\u001b[39m)\n\u001b[0;32m     <a href='vscode-notebook-cell:/c%3A/Users/visar/Course/Course_object/file_i_o.ipynb#X10sZmlsZQ%3D%3D?line=10'>11</a>\u001b[0m sign \u001b[39m=\u001b[39m rate_all[\u001b[39m0\u001b[39m]\n\u001b[1;32m---> <a href='vscode-notebook-cell:/c%3A/Users/visar/Course/Course_object/file_i_o.ipynb#X10sZmlsZQ%3D%3D?line=11'>12</a>\u001b[0m rate \u001b[39m=\u001b[39m \u001b[39mfloat\u001b[39;49m(rate_all[\u001b[39m1\u001b[39;49m])\n\u001b[0;32m     <a href='vscode-notebook-cell:/c%3A/Users/visar/Course/Course_object/file_i_o.ipynb#X10sZmlsZQ%3D%3D?line=12'>13</a>\u001b[0m rate_currency \u001b[39m=\u001b[39m dict_exchange_rate[sign]\n\u001b[0;32m     <a href='vscode-notebook-cell:/c%3A/Users/visar/Course/Course_object/file_i_o.ipynb#X10sZmlsZQ%3D%3D?line=13'>14</a>\u001b[0m wage \u001b[39m=\u001b[39m rate_currency\u001b[39m*\u001b[39mcalculate_wage(rate,hour)\n",
      "\u001b[1;31mValueError\u001b[0m: could not convert string to float: '£'"
     ]
    }
   ],
   "source": [
    "mixed_data_in = open('Data_in/mixed_hour_rate.txt')\n",
    "dict_exchange_rate = exchange_file_read('data_in/exchange_rate.csv')\n",
    "file_out = open('data_in/wages_euro_mixed.csv',mode='w')\n",
    "file_out.write('name,rate,hour,wage\\n')\n",
    "mixed_data_in_lines = mixed_data_in.readlines()\n",
    "for line in mixed_data_in_lines[1:]:\n",
    "    line_list = line.split(',')\n",
    "    name = line_list[0]\n",
    "    hour = float(line_list[1])\n",
    "    rate_all = line_list[2].replace('\\n','')\n",
    "    sign = rate_all[0]\n",
    "    rate = float(rate_all[1])\n",
    "    rate_currency = dict_exchange_rate[sign]\n",
    "    wage = rate_currency*calculate_wage(rate,hour)\n",
    "    result = f'{name},{sign}{rate},{hour},€{wage:.2f}\\n'\n",
    "    file_out.write(result)\n",
    "    print(result)\n",
    "    \n",
    "file_out.close()"
   ]
  },
  {
   "cell_type": "code",
   "execution_count": 25,
   "metadata": {},
   "outputs": [
    {
     "name": "stdout",
     "output_type": "stream",
     "text": [
      "['â‚¬,1.00\\n', '$,0.95\\n', 'Â£,1.30']\n"
     ]
    }
   ],
   "source": [
    "exhange_rate = open('data_in/exchange_rate.csv')\n",
    "exhange_rate_lines = exhange_rate.readlines()\n",
    "\n",
    "print(exhange_rate_lines)"
   ]
  },
  {
   "cell_type": "code",
   "execution_count": 27,
   "metadata": {},
   "outputs": [
    {
     "name": "stdout",
     "output_type": "stream",
     "text": [
      "black\n"
     ]
    }
   ],
   "source": [
    "def getChessSquareColor(colum,row):\n",
    "    if(colum + row) % 2 == 0:\n",
    "        return \"white\"\n",
    "    else:\n",
    "        return \"black\"\n",
    "\n",
    "print(getChessSquareColor(1,2))\n"
   ]
  },
  {
   "cell_type": "code",
   "execution_count": null,
   "metadata": {},
   "outputs": [],
   "source": []
  }
 ],
 "metadata": {
  "kernelspec": {
   "display_name": "Python 3",
   "language": "python",
   "name": "python3"
  },
  "language_info": {
   "codemirror_mode": {
    "name": "ipython",
    "version": 3
   },
   "file_extension": ".py",
   "mimetype": "text/x-python",
   "name": "python",
   "nbconvert_exporter": "python",
   "pygments_lexer": "ipython3",
   "version": "3.11.5"
  }
 },
 "nbformat": 4,
 "nbformat_minor": 2
}
