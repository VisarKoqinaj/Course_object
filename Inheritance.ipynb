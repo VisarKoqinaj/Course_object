{
 "cells": [
  {
   "cell_type": "code",
   "execution_count": 18,
   "metadata": {},
   "outputs": [
    {
     "data": {
      "text/plain": [
       "'Meow'"
      ]
     },
     "execution_count": 18,
     "metadata": {},
     "output_type": "execute_result"
    }
   ],
   "source": [
    "class Animal:\n",
    "    def __init__(self, species):\n",
    "        self.species = species\n",
    "    def make_sound(self):\n",
    "        return 'Meow'\n",
    "    \n",
    "\n",
    "dog = Animal('memals')\n",
    "cat = Animal('memals')\n",
    "\n",
    "dog.species\n",
    "dog.make_sound()"
   ]
  },
  {
   "cell_type": "code",
   "execution_count": 19,
   "metadata": {},
   "outputs": [
    {
     "data": {
      "text/plain": [
       "'Wooff'"
      ]
     },
     "execution_count": 19,
     "metadata": {},
     "output_type": "execute_result"
    }
   ],
   "source": [
    "class Dog(Animal):\n",
    "    def make_sound(self):\n",
    "        return 'Wooff'\n",
    "    \n",
    "dog = Dog('memals')\n",
    "\n",
    "dog.make_sound()"
   ]
  },
  {
   "cell_type": "code",
   "execution_count": 20,
   "metadata": {},
   "outputs": [
    {
     "data": {
      "text/plain": [
       "'Meow'"
      ]
     },
     "execution_count": 20,
     "metadata": {},
     "output_type": "execute_result"
    }
   ],
   "source": [
    "class Cat(Animal):\n",
    "    def make_sound(self):\n",
    "        return 'Meow'\n",
    "    \n",
    "cat = Cat('memals')\n",
    "\n",
    "cat.make_sound()"
   ]
  },
  {
   "cell_type": "code",
   "execution_count": 22,
   "metadata": {},
   "outputs": [],
   "source": [
    "class Vehicle:\n",
    "    def __init__(self, make, model, year):\n",
    "        self.make = make\n",
    "        self.model = model\n",
    "        self.year = year\n",
    "    \n",
    "    def start(self):\n",
    "        return 'The vehichel is starting'"
   ]
  },
  {
   "cell_type": "code",
   "execution_count": 24,
   "metadata": {},
   "outputs": [
    {
     "data": {
      "text/plain": [
       "'The 2023 Audi A4 with 4 car is starting'"
      ]
     },
     "execution_count": 24,
     "metadata": {},
     "output_type": "execute_result"
    }
   ],
   "source": [
    "class Car(Vehicle):\n",
    "    def __init__(self, make, model, year, num_doors):\n",
    "        super().__init__(make, model, year)\n",
    "        self.num_doors = num_doors\n",
    "    \n",
    "    def start(self):\n",
    "        return f\"The {self.year} {self.make} {self.model} with {self.num_doors} car is starting\"\n",
    "    \n",
    "\n",
    "car = Car('Audi','A4',2023, 4)\n",
    "\n",
    "car.start()"
   ]
  },
  {
   "cell_type": "code",
   "execution_count": 25,
   "metadata": {},
   "outputs": [
    {
     "data": {
      "text/plain": [
       "'The Tesla model 3 is an electric car! '"
      ]
     },
     "execution_count": 25,
     "metadata": {},
     "output_type": "execute_result"
    }
   ],
   "source": [
    "class ElectricCar(Car):\n",
    "    def __init__(self, make, model, year, num_doors, rang):\n",
    "        super().__init__(make, model, year, num_doors)\n",
    "        self.rang = rang\n",
    "\n",
    "    def start(self):\n",
    "        return f\"The {self.make} {self.model} is an electric car! \"\n",
    "    \n",
    "electricar = ElectricCar('Tesla','model 3', 2023, 4, 200)\n",
    "\n",
    "electricar.start()"
   ]
  },
  {
   "cell_type": "code",
   "execution_count": 30,
   "metadata": {},
   "outputs": [],
   "source": [
    "\n",
    "class People:\n",
    "    def __init__(self, name, year):\n",
    "        self.name = name\n",
    "        self.year = year\n",
    "\n",
    "\n",
    "\n",
    "class EMP(People):\n",
    "    def __init__(self, name, year, rate, hour):\n",
    "        super().__init__(name, year)\n",
    "        self.rate = rate\n",
    "        self.hour = hour\n",
    "\n",
    "    def calculate_salary(self):\n",
    "        if self.hour <=40:\n",
    "            wage = self.hour * self.rate\n",
    "        else:\n",
    "            wage = 40 * self.rate + (self.hour - 40) * 1.5 * self.rate\n",
    "        return wage\n",
    "    \n",
    "class Manager(EMP):\n",
    "    def __init__(self, name, year, rate, hour, adm):\n",
    "        super().__init__(name, year, rate, hour)\n",
    "        self.adm = adm\n",
    "\n",
    "    def calculate_salary(self):\n",
    "        base_wage = super().calculate_salary()\n",
    "        if self.adm == \"manager\":\n",
    "            return base_wage * 2\n",
    "        elif self.adm == \"director\":\n",
    "            return base_wage * 3\n",
    "        else:\n",
    "            return base_wage\n",
    "        \n",
    "        "
   ]
  },
  {
   "cell_type": "code",
   "execution_count": 33,
   "metadata": {},
   "outputs": [
    {
     "data": {
      "text/plain": [
       "50.24"
      ]
     },
     "execution_count": 33,
     "metadata": {},
     "output_type": "execute_result"
    }
   ],
   "source": [
    "#a * b\n",
    "#r2 * pi\n",
    "\n",
    "class Shape:\n",
    "    def area(self):\n",
    "        pass\n",
    "\n",
    "\n",
    "class Rectangle(Shape):\n",
    "    def __init__(self, length, widht):\n",
    "        self.length = length\n",
    "        self.width = widht\n",
    "\n",
    "    def area(self):\n",
    "        return self.length * self.width\n",
    "    \n",
    "\n",
    "class Circle(Shape):\n",
    "    def __init__(self, radius):\n",
    "        self.radius = radius\n",
    "    \n",
    "    def area(self):\n",
    "        return 3.14 * self.radius**2\n",
    "    \n",
    "rectangle = Rectangle(5, 3)\n",
    "circle = Circle(4)\n",
    "\n",
    "rectangle.area()\n",
    "circle.area()\n",
    "\n"
   ]
  }
 ],
 "metadata": {
  "kernelspec": {
   "display_name": "Python 3",
   "language": "python",
   "name": "python3"
  },
  "language_info": {
   "codemirror_mode": {
    "name": "ipython",
    "version": 3
   },
   "file_extension": ".py",
   "mimetype": "text/x-python",
   "name": "python",
   "nbconvert_exporter": "python",
   "pygments_lexer": "ipython3",
   "version": "3.11.5"
  }
 },
 "nbformat": 4,
 "nbformat_minor": 2
}
