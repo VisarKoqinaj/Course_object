{
 "cells": [
  {
   "cell_type": "code",
   "execution_count": 11,
   "metadata": {},
   "outputs": [
    {
     "name": "stdout",
     "output_type": "stream",
     "text": [
      "10\n",
      "11\n",
      "12\n",
      "13\n",
      "14\n",
      "10\n",
      "11\n",
      "12\n",
      "13\n",
      "14\n"
     ]
    }
   ],
   "source": [
    "import numpy as np\n",
    "\n",
    "my_list = [10,11,12,13,14]\n",
    "my_list_np = np.array(my_list)\n",
    "\n",
    "my_list_np.dtype\n",
    "\n",
    "for i in my_list:\n",
    "    print(i)\n",
    "\n",
    "for i in my_list_np:\n",
    "    print(i)\n",
    "\n"
   ]
  },
  {
   "cell_type": "code",
   "execution_count": 3,
   "metadata": {},
   "outputs": [
    {
     "name": "stdout",
     "output_type": "stream",
     "text": [
      "10\n",
      "11\n",
      "12\n",
      "13\n",
      "14\n"
     ]
    },
    {
     "data": {
      "text/plain": [
       "4"
      ]
     },
     "execution_count": 3,
     "metadata": {},
     "output_type": "execute_result"
    }
   ],
   "source": [
    "my_tuple = (10,11,12,13,14)\n",
    "my_tuple_np = np.array(my_tuple)\n",
    "\n",
    "for i in my_tuple_np:\n",
    "    print(i)\n",
    "\n",
    "my_tuple_np.argmax()\n",
    "my_tuple_np.argmin()\n",
    "\n"
   ]
  },
  {
   "cell_type": "code",
   "execution_count": 13,
   "metadata": {},
   "outputs": [
    {
     "data": {
      "text/plain": [
       "(4, 3)"
      ]
     },
     "execution_count": 13,
     "metadata": {},
     "output_type": "execute_result"
    }
   ],
   "source": [
    "def max_min(list):\n",
    "    max = np.argmax(list)\n",
    "    min = np.argmin(list)\n",
    "    return min , max \n",
    "\n",
    "list_test = (5,4,37,48,1)\n",
    "\n",
    "max_min(list_test)\n"
   ]
  },
  {
   "cell_type": "code",
   "execution_count": 9,
   "metadata": {},
   "outputs": [
    {
     "data": {
      "text/plain": [
       "array([1, 5])"
      ]
     },
     "execution_count": 9,
     "metadata": {},
     "output_type": "execute_result"
    }
   ],
   "source": [
    "my_matrice = np.array([[1,2,3],\n",
    "                       [4,5,6]])\n",
    "my_matrice.shape\n",
    "my_matrice.diagonal()"
   ]
  },
  {
   "cell_type": "code",
   "execution_count": 10,
   "metadata": {},
   "outputs": [
    {
     "name": "stdout",
     "output_type": "stream",
     "text": [
      "[148 501 922 665 111]\n",
      "[-102 -411 -856 -509  -87]\n",
      "[ 2875 20520 29337 45786  1188]\n",
      "[0.184      0.09868421 0.03712036 0.13287905 0.12121212]\n"
     ]
    }
   ],
   "source": [
    "arr1 = np.array([23,45,33,78,12])\n",
    "arr2 = np.array([125,456,889,587,99])\n",
    "\n",
    "addition = arr1 + arr2 \n",
    "\n",
    "subtraction = arr1 - arr2 \n",
    "\n",
    "multiplication = arr1 * arr2 \n",
    "\n",
    "division = arr1 / arr2 \n",
    "\n",
    "print(addition)\n",
    "print(subtraction)\n",
    "print(multiplication)\n",
    "print(division)\n"
   ]
  },
  {
   "cell_type": "code",
   "execution_count": null,
   "metadata": {},
   "outputs": [],
   "source": [
    "random_list = np.random.randint(1,101,20)\n",
    "\n",
    "greater_than_50 = random_array[random_list]\n"
   ]
  }
 ],
 "metadata": {
  "kernelspec": {
   "display_name": "Python 3",
   "language": "python",
   "name": "python3"
  },
  "language_info": {
   "codemirror_mode": {
    "name": "ipython",
    "version": 3
   },
   "file_extension": ".py",
   "mimetype": "text/x-python",
   "name": "python",
   "nbconvert_exporter": "python",
   "pygments_lexer": "ipython3",
   "version": "3.11.5"
  }
 },
 "nbformat": 4,
 "nbformat_minor": 2
}
