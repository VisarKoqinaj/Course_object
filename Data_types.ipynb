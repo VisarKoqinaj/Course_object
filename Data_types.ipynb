{
 "cells": [
  {
   "cell_type": "markdown",
   "metadata": {},
   "source": [
    "# STRING"
   ]
  },
  {
   "cell_type": "code",
   "execution_count": 30,
   "metadata": {},
   "outputs": [
    {
     "name": "stdout",
     "output_type": "stream",
     "text": [
      "hello world\n",
      "hello wolrd\n",
      "['__add__', '__class__', '__contains__', '__delattr__', '__dir__', '__doc__', '__eq__', '__format__', '__ge__', '__getattribute__', '__getitem__', '__getnewargs__', '__getstate__', '__gt__', '__hash__', '__init__', '__init_subclass__', '__iter__', '__le__', '__len__', '__lt__', '__mod__', '__mul__', '__ne__', '__new__', '__reduce__', '__reduce_ex__', '__repr__', '__rmod__', '__rmul__', '__setattr__', '__sizeof__', '__str__', '__subclasshook__', 'capitalize', 'casefold', 'center', 'count', 'encode', 'endswith', 'expandtabs', 'find', 'format', 'format_map', 'index', 'isalnum', 'isalpha', 'isascii', 'isdecimal', 'isdigit', 'isidentifier', 'islower', 'isnumeric', 'isprintable', 'isspace', 'istitle', 'isupper', 'join', 'ljust', 'lower', 'lstrip', 'maketrans', 'partition', 'removeprefix', 'removesuffix', 'replace', 'rfind', 'rindex', 'rjust', 'rpartition', 'rsplit', 'rstrip', 'split', 'splitlines', 'startswith', 'strip', 'swapcase', 'title', 'translate', 'upper', 'zfill']\n",
      "hello worldhello wolrd\n",
      "HELLO WORLD\n",
      "hello world\n",
      "['hello', 'world']\n"
     ]
    },
    {
     "ename": "TypeError",
     "evalue": "list expected at most 1 argument, got 3",
     "output_type": "error",
     "traceback": [
      "\u001b[1;31m---------------------------------------------------------------------------\u001b[0m",
      "\u001b[1;31mTypeError\u001b[0m                                 Traceback (most recent call last)",
      "\u001b[1;32mc:\\Users\\visar\\Course\\Course_object\\Data_types.ipynb Cell 2\u001b[0m line \u001b[0;36m3\n\u001b[0;32m     <a href='vscode-notebook-cell:/c%3A/Users/visar/Course/Course_object/Data_types.ipynb#W1sZmlsZQ%3D%3D?line=30'>31</a>\u001b[0m \u001b[39m#spliting string to list\u001b[39;00m\n\u001b[0;32m     <a href='vscode-notebook-cell:/c%3A/Users/visar/Course/Course_object/Data_types.ipynb#W1sZmlsZQ%3D%3D?line=31'>32</a>\u001b[0m \u001b[39mprint\u001b[39m(tekst1\u001b[39m.\u001b[39msplit())\n\u001b[1;32m---> <a href='vscode-notebook-cell:/c%3A/Users/visar/Course/Course_object/Data_types.ipynb#W1sZmlsZQ%3D%3D?line=33'>34</a>\u001b[0m \u001b[39mlist\u001b[39;49m(\u001b[39m\"\u001b[39;49m\u001b[39mA\u001b[39;49m\u001b[39m\"\u001b[39;49m, \u001b[39m\"\u001b[39;49m\u001b[39mtest\u001b[39;49m\u001b[39m\"\u001b[39;49m, \u001b[39m\"\u001b[39;49m\u001b[39m1\u001b[39;49m\u001b[39m\"\u001b[39;49m)\n",
      "\u001b[1;31mTypeError\u001b[0m: list expected at most 1 argument, got 3"
     ]
    }
   ],
   "source": [
    "tekst1=\"hello world\"\n",
    "tekst2=str(\"hello wolrd\")\n",
    "\n",
    "print(tekst1)\n",
    "print(tekst2)\n",
    "\n",
    "\n",
    "\n",
    "print(dir(tekst1))\n",
    "\n",
    "#add tekst\n",
    "print(tekst1+tekst2)\n",
    "\n",
    "#string interpolation\n",
    "\n",
    "#string lenght\n",
    "\n",
    "#character by index\n",
    "\n",
    "#string slice\n",
    "\n",
    "#check if substring is part of string variable\n",
    "\n",
    "\n",
    "#converting to upper case\n",
    "print(tekst1.upper())\n",
    "\n",
    "#strip\n",
    "print(tekst1.strip())\n",
    "\n",
    "#spliting string to list\n",
    "print(tekst1.split())\n",
    "\n",
    "list(\"A\", \"test\", \"1\")\n",
    "\n",
    "\n",
    "\n",
    "\n",
    "\n",
    "\n",
    "\n"
   ]
  },
  {
   "cell_type": "markdown",
   "metadata": {},
   "source": [
    "# NUMBER"
   ]
  },
  {
   "cell_type": "code",
   "execution_count": 45,
   "metadata": {},
   "outputs": [
    {
     "name": "stdout",
     "output_type": "stream",
     "text": [
      "-3\n",
      "2.35\n",
      "<class 'int'>\n",
      "<class 'float'>\n",
      "6.0\n",
      "8.0\n",
      "3\n",
      "4.6\n",
      "4\n",
      "3.0\n"
     ]
    }
   ],
   "source": [
    "numer_i_plot=int(-3)\n",
    "numer_real=float(2.35)\n",
    "\n",
    "print(numer_i_plot)\n",
    "print(numer_real)\n",
    "\n",
    "\n",
    "#check the type\n",
    "print(type(numer_i_plot))\n",
    "print(type(numer_real))\n",
    "\n",
    "\n",
    "#in python we do not need int and float before\n",
    "numer_i_plot=-3\n",
    "\n",
    "#Aritmetic operation\n",
    "A=2\n",
    "B=3.0\n",
    "print(A*B)\n",
    "print(A**B)\n",
    "\n",
    "#conversion in float or int\n",
    "C=3.5\n",
    "print(int(C))\n",
    "\n",
    "#Rounding numbers\n",
    "F=4.555\n",
    "print(round(F,1))\n",
    "\n",
    "#apsolute value\n",
    "print(abs(-4))\n",
    "\n",
    "#Max nr\n",
    " \n",
    "print(max(A,B))"
   ]
  },
  {
   "cell_type": "markdown",
   "metadata": {},
   "source": [
    "# FUNCTION OR METHODS"
   ]
  },
  {
   "cell_type": "code",
   "execution_count": 55,
   "metadata": {},
   "outputs": [
    {
     "name": "stdout",
     "output_type": "stream",
     "text": [
      "2.0\n",
      "3\n",
      "Metoda e Pare\n",
      "9\n",
      "4\n",
      "10\n"
     ]
    }
   ],
   "source": [
    "#Metoda eshte e ngjajdhme me funksionet matematikore\n",
    "# F(x)=x         x=1      F(1)=1\n",
    "\n",
    "def emri_i_metodes():\n",
    "    A=2.0\n",
    "    B=3\n",
    "    print(A)\n",
    "    print(B)\n",
    "    return \"Metoda e Pare\"\n",
    "\n",
    "print(emri_i_metodes())\n",
    "\n",
    "\n",
    "def funksioni(x):\n",
    "    y=x*x\n",
    "    return y\n",
    "\n",
    "print(funksioni(3))\n",
    "\n",
    "\n",
    "def metoda2(a):\n",
    "    return abs(a)\n",
    "\n",
    "print(metoda2(4))\n",
    "\n",
    "\n",
    "def shuma_e_dy_numrave(a,b):\n",
    "    return a+b\n",
    "\n",
    "print(shuma_e_dy_numrave(4,6))"
   ]
  },
  {
   "cell_type": "markdown",
   "metadata": {},
   "source": [
    "# LIST"
   ]
  },
  {
   "cell_type": "code",
   "execution_count": 63,
   "metadata": {},
   "outputs": [
    {
     "name": "stdout",
     "output_type": "stream",
     "text": [
      "[1, 2, 3, 4] <class 'list'>\n",
      "[1, 2, 3, 4, 4, 2, 3, 'tekst1', 8]\n",
      "{3}\n"
     ]
    }
   ],
   "source": [
    "lista1=[1,2,3,4]\n",
    "lista2=[4,2,3,\"tekst1\",8]\n",
    "\n",
    "print(lista1, type(lista1))\n",
    "\n",
    "# Mbledhja e listave\n",
    "\n",
    "print(lista1+lista2)\n",
    "\n",
    "#Marrja e elementit sipas indeksit\n",
    "\n",
    "print({lista1[2]})"
   ]
  },
  {
   "cell_type": "code",
   "execution_count": 64,
   "metadata": {},
   "outputs": [
    {
     "name": "stdout",
     "output_type": "stream",
     "text": [
      "['__class__', '__delattr__', '__dict__', '__dir__', '__doc__', '__eq__', '__format__', '__ge__', '__getattribute__', '__getstate__', '__gt__', '__hash__', '__init__', '__init_subclass__', '__le__', '__lt__', '__module__', '__ne__', '__new__', '__reduce__', '__reduce_ex__', '__repr__', '__setattr__', '__sizeof__', '__str__', '__subclasshook__', '__weakref__', 'a', 'b']\n"
     ]
    }
   ],
   "source": [
    "class Mystring:\n",
    "    a=0\n",
    "    b=0\n",
    "\n",
    "print(dir(Mystring))\n",
    "\n",
    "\n"
   ]
  }
 ],
 "metadata": {
  "kernelspec": {
   "display_name": "Python 3",
   "language": "python",
   "name": "python3"
  },
  "language_info": {
   "codemirror_mode": {
    "name": "ipython",
    "version": 3
   },
   "file_extension": ".py",
   "mimetype": "text/x-python",
   "name": "python",
   "nbconvert_exporter": "python",
   "pygments_lexer": "ipython3",
   "version": "3.11.5"
  },
  "orig_nbformat": 4
 },
 "nbformat": 4,
 "nbformat_minor": 2
}
