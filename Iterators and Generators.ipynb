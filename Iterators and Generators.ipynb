{
 "cells": [
  {
   "cell_type": "code",
   "execution_count": null,
   "metadata": {},
   "outputs": [],
   "source": [
    "my_list = [1,2,3,4]\n",
    "\n",
    "for iteam in my_list:\n",
    "    print(iteam)"
   ]
  },
  {
   "cell_type": "code",
   "execution_count": null,
   "metadata": {},
   "outputs": [],
   "source": [
    "my_dict = {'a':1,'b':2,'c':3}\n",
    "\n",
    "for dict_i in my_dict:\n",
    "    print(dict_i)"
   ]
  },
  {
   "cell_type": "code",
   "execution_count": null,
   "metadata": {},
   "outputs": [],
   "source": [
    "for num in range(5):\n",
    "    print(num)"
   ]
  },
  {
   "cell_type": "code",
   "execution_count": 2,
   "metadata": {},
   "outputs": [
    {
     "name": "stdout",
     "output_type": "stream",
     "text": [
      "1\n",
      "4\n",
      "9\n",
      "16\n"
     ]
    }
   ],
   "source": [
    "try_lambda = lambda x: x+10\n",
    "\n",
    "square_numbers = map(lambda x: x**2, [1,2,3,4])\n",
    "\n",
    "for i in list(square_numbers):\n",
    "    print(i)\n",
    "\n"
   ]
  },
  {
   "cell_type": "code",
   "execution_count": 3,
   "metadata": {},
   "outputs": [
    {
     "name": "stdout",
     "output_type": "stream",
     "text": [
      "2\n",
      "4\n"
     ]
    }
   ],
   "source": [
    "filter_numbers = filter(lambda x: x%2==0,[1,2,3,4])\n",
    "\n",
    "for i in list(filter_numbers):\n",
    "    print(i)\n"
   ]
  },
  {
   "cell_type": "code",
   "execution_count": 4,
   "metadata": {},
   "outputs": [
    {
     "name": "stdout",
     "output_type": "stream",
     "text": [
      "0\n",
      "1\n",
      "4\n",
      "9\n",
      "16\n"
     ]
    }
   ],
   "source": [
    "square = (x**2 for x in range(5))\n",
    "\n",
    "for i in square:\n",
    "    print(i)"
   ]
  },
  {
   "cell_type": "code",
   "execution_count": 6,
   "metadata": {},
   "outputs": [
    {
     "name": "stdout",
     "output_type": "stream",
     "text": [
      "0 a\n",
      "1 b\n",
      "2 c\n"
     ]
    }
   ],
   "source": [
    "my_list = ['a', 'b', 'c']\n",
    "\n",
    "for index, value in enumerate(my_list):\n",
    "    print(index,value)"
   ]
  },
  {
   "cell_type": "code",
   "execution_count": 7,
   "metadata": {},
   "outputs": [
    {
     "name": "stdout",
     "output_type": "stream",
     "text": [
      "alice 25\n",
      "bob 30\n",
      "charlie 35\n"
     ]
    }
   ],
   "source": [
    "names = ['alice', 'bob', 'charlie']\n",
    "ages = [25, 30 ,35]\n",
    "\n",
    "for name, age in zip(names, ages):\n",
    "    print(name, age)"
   ]
  },
  {
   "cell_type": "code",
   "execution_count": 10,
   "metadata": {},
   "outputs": [
    {
     "name": "stdout",
     "output_type": "stream",
     "text": [
      "5\n",
      "4\n",
      "3\n",
      "2\n",
      "1\n"
     ]
    }
   ],
   "source": [
    "class Myint:\n",
    "    def __init__(self, my_init):\n",
    "        self.my_init = str(my_init)\n",
    "\n",
    "my_5 = Myint(54321)\n",
    "\n",
    "for i in my_5.my_init:\n",
    "    print(i)"
   ]
  },
  {
   "cell_type": "code",
   "execution_count": 11,
   "metadata": {},
   "outputs": [
    {
     "name": "stdout",
     "output_type": "stream",
     "text": [
      "1\n",
      "2\n",
      "3\n",
      "4\n"
     ]
    }
   ],
   "source": [
    "\n",
    "class MyIterator:\n",
    "    def __init__(self, start, stop):\n",
    "        self.current = start\n",
    "        self.end = stop\n",
    "    \n",
    "    def __iter__(self):\n",
    "        return self\n",
    "    \n",
    "    def __next__(self):\n",
    "        if self.current < self.end:\n",
    "            result = self.current\n",
    "            self.current += 1\n",
    "            return result\n",
    "        else:\n",
    "            raise StopIteration\n",
    "        \n",
    "\n",
    "my_iterator = MyIterator(1,5)\n",
    "\n",
    "for num in my_iterator:\n",
    "    print(num)"
   ]
  },
  {
   "cell_type": "code",
   "execution_count": 12,
   "metadata": {},
   "outputs": [
    {
     "name": "stdout",
     "output_type": "stream",
     "text": [
      "1\n",
      "2\n",
      "3\n",
      "4\n",
      "5\n"
     ]
    }
   ],
   "source": [
    "#generator\n",
    "\n",
    "def my_generator(start, end):\n",
    "    current = start\n",
    "    while current < end:\n",
    "        yield current\n",
    "        current +=1\n",
    "\n",
    "gen =my_generator(1,6)\n",
    "\n",
    "for num in gen:\n",
    "    print(num)"
   ]
  },
  {
   "cell_type": "code",
   "execution_count": 19,
   "metadata": {},
   "outputs": [
    {
     "name": "stdout",
     "output_type": "stream",
     "text": [
      "('a', 50)\n",
      "('b', 200)\n",
      "('c', 450)\n"
     ]
    }
   ],
   "source": [
    "\n",
    "#Create a generator function that takes a list of workers, their hours worked, and hourly rates as input. \n",
    "#The generator should yield tuples containing worker names and their corresponding weekly wages.\n",
    "\n",
    "def calculate_wages(workers, hours, rates):\n",
    "    for worker, hrs, rate in zip(workers, hours, rates):\n",
    "        weekly_wage = hrs * rate\n",
    "        yield(worker, weekly_wage)\n",
    "\n",
    "\n",
    "w = ['a','b','c']\n",
    "h = [10,20,30]\n",
    "r = [5,10,15]\n",
    "\n",
    "for i in calculate_wages(w, h, r):\n",
    "    print(i)\n",
    "\n",
    "\n",
    "\n"
   ]
  },
  {
   "cell_type": "code",
   "execution_count": 28,
   "metadata": {},
   "outputs": [
    {
     "name": "stdout",
     "output_type": "stream",
     "text": [
      "('b', 200)\n",
      "('c', 450)\n"
     ]
    }
   ],
   "source": [
    "def calculate_wages(workers, hours, rates, f_input):\n",
    "    for worker, hrs, rate in zip(workers, hours, rates):\n",
    "        weekly_wage = hrs * rate\n",
    "        if weekly_wage > f_input:\n",
    "            yield(worker, weekly_wage)\n",
    "\n",
    "\n",
    "w = ['a','b','c']\n",
    "h = [10,20,30]\n",
    "r = [5,10,15]\n",
    "f = int(input('please input filter:  '))\n",
    "\n",
    "for i in calculate_wages(w, h, r, f):\n",
    "    print(i)"
   ]
  }
 ],
 "metadata": {
  "kernelspec": {
   "display_name": "Python 3",
   "language": "python",
   "name": "python3"
  },
  "language_info": {
   "codemirror_mode": {
    "name": "ipython",
    "version": 3
   },
   "file_extension": ".py",
   "mimetype": "text/x-python",
   "name": "python",
   "nbconvert_exporter": "python",
   "pygments_lexer": "ipython3",
   "version": "3.11.5"
  }
 },
 "nbformat": 4,
 "nbformat_minor": 2
}
