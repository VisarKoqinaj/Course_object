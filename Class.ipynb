{
 "cells": [
  {
   "cell_type": "code",
   "execution_count": 31,
   "metadata": {},
   "outputs": [
    {
     "data": {
      "text/plain": [
       "86.0"
      ]
     },
     "execution_count": 31,
     "metadata": {},
     "output_type": "execute_result"
    }
   ],
   "source": [
    "\n",
    "class CelsiusFahrenheit:\n",
    "    def __init__(self, temp):\n",
    "        self.temp = temp\n",
    "\n",
    "    def cel(self):\n",
    "        return (self.temp - 32) * (5 / 9) \n",
    "\n",
    "    def far(self):\n",
    "        return self.temp * (9 / 5) + 32\n",
    "\n",
    "\n",
    "var_cel = CelsiusFahrenheit(30)\n",
    "\n",
    "var_cel.far()\n",
    "\n",
    "\n",
    "\n",
    "\n"
   ]
  },
  {
   "cell_type": "code",
   "execution_count": 14,
   "metadata": {},
   "outputs": [
    {
     "data": {
      "text/plain": [
       "540.0"
      ]
     },
     "execution_count": 14,
     "metadata": {},
     "output_type": "execute_result"
    }
   ],
   "source": [
    "class Puntori:\n",
    "    def __init__(self,name, hours, rate, tax):\n",
    "        self.name  = name\n",
    "        self.hours = hours\n",
    "        self.rate  = rate\n",
    "        self.tax   = tax\n",
    "    \n",
    "    def calculo_rrogen_bruto (self):\n",
    "        self.rroga_bruto = self.hours * self.rate\n",
    "        return self.rroga_bruto\n",
    "    \n",
    "    def calculo_rrogen_neto (self):\n",
    "        return self.rroga_bruto * (1 - self.tax)\n",
    "\n",
    "\n",
    "\n",
    "calculo = Puntori(\"visar\",20,30,0.1)\n",
    "calculo.calculo_rrogen_bruto()\n",
    "calculo.calculo_rrogen_neto()\n",
    "\n",
    "\n"
   ]
  },
  {
   "cell_type": "code",
   "execution_count": 11,
   "metadata": {},
   "outputs": [
    {
     "name": "stdout",
     "output_type": "stream",
     "text": [
      "<re.Match object; span=(9, 10), match='a'>\n"
     ]
    }
   ],
   "source": [
    "import re\n",
    "\n",
    "txt = \"hi im visar and im 32 years old\"\n",
    "x = re.search(\"[abc]+\", txt)\n",
    "print(x) #this will print an object"
   ]
  },
  {
   "cell_type": "code",
   "execution_count": 4,
   "metadata": {},
   "outputs": [
    {
     "name": "stdout",
     "output_type": "stream",
     "text": [
      "Visar is albanian\n",
      "<function citizen.<locals>.name at 0x000001A81A294860>\n"
     ]
    }
   ],
   "source": [
    "def citizen(nationality):\n",
    "\n",
    "    def name(name):\n",
    "        print(F'{name} is {nationality}')\n",
    "\n",
    "    return name\n",
    "\n",
    "\n",
    "name_albanian = citizen('albanian')\n",
    "\n",
    "name_albanian('Visar')\n",
    "\n",
    "print(name_albanian)"
   ]
  },
  {
   "cell_type": "code",
   "execution_count": 1,
   "metadata": {},
   "outputs": [
    {
     "data": {
      "text/plain": [
       "15"
      ]
     },
     "execution_count": 1,
     "metadata": {},
     "output_type": "execute_result"
    }
   ],
   "source": [
    "def sum_more(*args):\n",
    "    result = 0\n",
    "    for i in args:\n",
    "        result += i\n",
    "    return result\n",
    "\n",
    "sum_more(1,2,3,4,5)"
   ]
  },
  {
   "cell_type": "code",
   "execution_count": 2,
   "metadata": {},
   "outputs": [
    {
     "name": "stdout",
     "output_type": "stream",
     "text": [
      "{'age': 'key1', 'month': 1}\n"
     ]
    }
   ],
   "source": [
    "def args_w_keys(**kwargs):\n",
    "    print(kwargs)\n",
    "\n",
    "args_w_keys(age='key1',month=1)"
   ]
  },
  {
   "cell_type": "code",
   "execution_count": null,
   "metadata": {},
   "outputs": [],
   "source": [
    "def decorator_with_args(arg1, arg2):\n",
    "    def my_decorator(func):\n",
    "        def wrapper(*args, **kwargs):\n",
    "            print(f'Decorated with {arg1} and {arg2}')\n",
    "            func(*args, **kwargs)\n",
    "        return wrapper\n",
    "    return my_decorator\n",
    "    \n",
    "\n",
    "@decorator_with_args('arg1','arg2')\n",
    "def say_hello(name):\n",
    "    print(f'hello {name} !')\n",
    "\n"
   ]
  },
  {
   "cell_type": "code",
   "execution_count": 1,
   "metadata": {},
   "outputs": [
    {
     "name": "stdout",
     "output_type": "stream",
     "text": [
      "before\n",
      "hello\n",
      "after\n"
     ]
    }
   ],
   "source": [
    "from functools import wraps\n",
    "\n",
    "def my_decorator(func):\n",
    "    @wraps(func)\n",
    "    def wrapper(*args, **kwargs):\n",
    "        print('before')\n",
    "        func(*args, **kwargs)\n",
    "        print('after')\n",
    "    return wrapper\n",
    "\n",
    "@my_decorator\n",
    "def say_hello():\n",
    "    '''A function that prints hello'''\n",
    "    print('hello')\n",
    "\n",
    "say_hello()\n"
   ]
  },
  {
   "cell_type": "code",
   "execution_count": 2,
   "metadata": {},
   "outputs": [
    {
     "data": {
      "text/plain": [
       "160.0"
      ]
     },
     "execution_count": 2,
     "metadata": {},
     "output_type": "execute_result"
    }
   ],
   "source": [
    "\n",
    "def tax_decorator(tax_rate):\n",
    "    def decorator(func):\n",
    "        def wrapper(hours,rate):\n",
    "            wage = func(hours,rate)\n",
    "            wage_without_tax = wage * (1 - tax_rate)\n",
    "            return wage_without_tax\n",
    "        return wrapper\n",
    "    return decorator\n",
    "\n",
    "\n",
    "@tax_decorator(0.2)\n",
    "def calculate_wages(hours,rate):\n",
    "    return hours * rate\n",
    "\n",
    "calculate_wages(20,10)"
   ]
  },
  {
   "cell_type": "code",
   "execution_count": 6,
   "metadata": {},
   "outputs": [
    {
     "data": {
      "text/plain": [
       "1.98"
      ]
     },
     "execution_count": 6,
     "metadata": {},
     "output_type": "execute_result"
    }
   ],
   "source": [
    "\n",
    "def peshore_dekorator(margin):\n",
    "    def decorator(func):\n",
    "        def wrapper(price,kilogram):\n",
    "            total_payment = func(price,kilogram)\n",
    "            total_payment_margin = total_payment - (total_payment * margin)\n",
    "            return total_payment_margin\n",
    "        return wrapper\n",
    "    return decorator\n",
    "\n",
    "\n",
    "\n",
    "@peshore_dekorator(0.01)\n",
    "def calculate_payment(price,kilogram):\n",
    "    return price * kilogram\n",
    "\n",
    "calculate_payment(1,2)\n",
    "\n"
   ]
  },
  {
   "cell_type": "code",
   "execution_count": 33,
   "metadata": {},
   "outputs": [
    {
     "data": {
      "text/plain": [
       "600"
      ]
     },
     "execution_count": 33,
     "metadata": {},
     "output_type": "execute_result"
    }
   ],
   "source": [
    "cur_rate = {'a':0.94, 'b':1.1, 'c':1}\n",
    "rate = cur_rate.get('a')\n",
    "\n",
    "\n",
    "def fx(current_fx):\n",
    "    def decorator(func):\n",
    "        def wrapper(hours,rate):\n",
    "            fx_rate = cur_rate.get(current_fx, 1.0)\n",
    "            salary = func(hours,rate)\n",
    "            salary_ccy = salary * fx_rate\n",
    "            return salary_ccy\n",
    "        return wrapper\n",
    "    return decorator\n",
    "\n",
    "@fx('c')\n",
    "def salary(hours,rate):\n",
    "    return hours * rate\n",
    "\n",
    "salary(30,20)"
   ]
  },
  {
   "cell_type": "code",
   "execution_count": null,
   "metadata": {},
   "outputs": [],
   "source": [
    "cur_rate = {'a':0.94, 'b':1.1, 'c':1}\n",
    "rate = cur_rate.get('a')\n",
    "\n",
    "\n",
    "def fx(rates_dict):\n",
    "    def decorator(func):\n",
    "        def wrapper(hours,rate,currency):\n",
    "            salary = func(hours,rate)\n",
    "            if currency in rates_dict:\n",
    "                rate = rates_dict.get(currency)\n",
    "                wage *= rate\n",
    "                return {'wage':wage, 'currency': currency}\n",
    "            else:\n",
    "                return {'wage':wage, 'currency': currency}\n",
    "        return wrapper\n",
    "    return decorator\n",
    "\n",
    "@fx ({'a':0.94, 'b':1.1, 'c':1})\n",
    "def salary(hours,rate, currency='a'):\n",
    "    return hours * rate\n",
    "\n",
    "salary(30,20)"
   ]
  },
  {
   "cell_type": "code",
   "execution_count": 34,
   "metadata": {},
   "outputs": [
    {
     "name": "stdout",
     "output_type": "stream",
     "text": [
      "Worker name: Visar\n"
     ]
    }
   ],
   "source": [
    "class Workers:\n",
    "\n",
    "    def __init__(self, name):\n",
    "        self.name = name\n",
    "        self.wage_records = {}\n",
    "    \n",
    "    def calculate_wages(self, rate, hours, month):\n",
    "        wage = rate * hours\n",
    "        self.wage_records[month]=wage\n",
    "    \n",
    "    def wages(self):\n",
    "        return self.wage_records\n",
    "    \n",
    "    def __str__(self):\n",
    "        return f'Worker name: {self.name}'\n",
    "    \n",
    "    def __len__(self):\n",
    "        return len(self.wage_records)\n",
    "    \n",
    "    def __getitem__(self,item):\n",
    "        return self.wage_records[item]\n",
    "    \n",
    "    def __eq__(self,item):\n",
    "        return self.name==item\n",
    "\n",
    "    \n",
    "worker1 = Workers('Visar')\n",
    "\n",
    "print(worker1)\n",
    "\n"
   ]
  },
  {
   "cell_type": "code",
   "execution_count": null,
   "metadata": {},
   "outputs": [],
   "source": []
  }
 ],
 "metadata": {
  "kernelspec": {
   "display_name": "Python 3",
   "language": "python",
   "name": "python3"
  },
  "language_info": {
   "codemirror_mode": {
    "name": "ipython",
    "version": 3
   },
   "file_extension": ".py",
   "mimetype": "text/x-python",
   "name": "python",
   "nbconvert_exporter": "python",
   "pygments_lexer": "ipython3",
   "version": "3.11.5"
  }
 },
 "nbformat": 4,
 "nbformat_minor": 2
}
