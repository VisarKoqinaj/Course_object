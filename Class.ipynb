{
 "cells": [
  {
   "cell_type": "code",
   "execution_count": 31,
   "metadata": {},
   "outputs": [
    {
     "data": {
      "text/plain": [
       "86.0"
      ]
     },
     "execution_count": 31,
     "metadata": {},
     "output_type": "execute_result"
    }
   ],
   "source": [
    "\n",
    "class CelsiusFahrenheit:\n",
    "    def __init__(self, temp):\n",
    "        self.temp = temp\n",
    "\n",
    "    def cel(self):\n",
    "        return (self.temp - 32) * (5 / 9) \n",
    "\n",
    "    def far(self):\n",
    "        return self.temp * (9 / 5) + 32\n",
    "\n",
    "\n",
    "var_cel = CelsiusFahrenheit(30)\n",
    "\n",
    "var_cel.far()\n",
    "\n",
    "\n",
    "\n",
    "\n"
   ]
  },
  {
   "cell_type": "code",
   "execution_count": 14,
   "metadata": {},
   "outputs": [
    {
     "data": {
      "text/plain": [
       "540.0"
      ]
     },
     "execution_count": 14,
     "metadata": {},
     "output_type": "execute_result"
    }
   ],
   "source": [
    "class Puntori:\n",
    "    def __init__(self,name, hours, rate, tax):\n",
    "        self.name  = name\n",
    "        self.hours = hours\n",
    "        self.rate  = rate\n",
    "        self.tax   = tax\n",
    "    \n",
    "    def calculo_rrogen_bruto (self):\n",
    "        self.rroga_bruto = self.hours * self.rate\n",
    "        return self.rroga_bruto\n",
    "    \n",
    "    def calculo_rrogen_neto (self):\n",
    "        return self.rroga_bruto * (1 - self.tax)\n",
    "\n",
    "\n",
    "\n",
    "calculo = Puntori(\"visar\",20,30,0.1)\n",
    "calculo.calculo_rrogen_bruto()\n",
    "calculo.calculo_rrogen_neto()\n",
    "\n",
    "\n"
   ]
  }
 ],
 "metadata": {
  "kernelspec": {
   "display_name": "Python 3",
   "language": "python",
   "name": "python3"
  },
  "language_info": {
   "codemirror_mode": {
    "name": "ipython",
    "version": 3
   },
   "file_extension": ".py",
   "mimetype": "text/x-python",
   "name": "python",
   "nbconvert_exporter": "python",
   "pygments_lexer": "ipython3",
   "version": "3.11.5"
  }
 },
 "nbformat": 4,
 "nbformat_minor": 2
}
