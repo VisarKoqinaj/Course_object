{
 "cells": [
  {
   "cell_type": "code",
   "execution_count": 1,
   "metadata": {},
   "outputs": [
    {
     "name": "stdout",
     "output_type": "stream",
     "text": [
      "this is the true part of the flow\n"
     ]
    }
   ],
   "source": [
    "condition=True\n",
    "condition1=False\n",
    "\n",
    "if (condition):\n",
    "    print(\"this is the true part of the flow\")\n",
    "\n",
    "    "
   ]
  },
  {
   "cell_type": "code",
   "execution_count": null,
   "metadata": {},
   "outputs": [],
   "source": [
    "# nasted if\n",
    "\n",
    "if True:\n",
    "    if True:\n",
    "        print(\"this is true true nasted\")\n",
    "    else:\n",
    "        print"
   ]
  },
  {
   "cell_type": "code",
   "execution_count": 1,
   "metadata": {},
   "outputs": [
    {
     "name": "stdout",
     "output_type": "stream",
     "text": [
      "string are equal (ingoring case)\n"
     ]
    }
   ],
   "source": [
    "str1= \"Hello\"\n",
    "str2= \"Hello\"\n",
    "\n",
    "# Compare strings ingoring case\n",
    "if(str1.lower() == str2.lower()):\n",
    "    print(\"string are equal (ingoring case)\")\n",
    "else:\n",
    "    print(\"string are not equal\")"
   ]
  },
  {
   "cell_type": "code",
   "execution_count": null,
   "metadata": {},
   "outputs": [],
   "source": [
    "x=20\n",
    "if (x>5):"
   ]
  },
  {
   "cell_type": "code",
   "execution_count": 2,
   "metadata": {},
   "outputs": [
    {
     "name": "stdout",
     "output_type": "stream",
     "text": [
      "0\n",
      "1\n",
      "2\n",
      "3\n",
      "4\n",
      "5\n",
      "6\n",
      "7\n",
      "8\n",
      "9\n"
     ]
    }
   ],
   "source": [
    "# iterations\n",
    "\n",
    "# for loop\n",
    "for i in range(0,10):\n",
    "    print(i)\n",
    "\n",
    "# while loop\n",
    "exitloop=False\n",
    "count=0\n",
    "while not exitloop:\n",
    "    print(count)\n"
   ]
  },
  {
   "cell_type": "code",
   "execution_count": 2,
   "metadata": {},
   "outputs": [
    {
     "name": "stdout",
     "output_type": "stream",
     "text": [
      "7\n",
      "5\n",
      "3\n",
      "1\n"
     ]
    }
   ],
   "source": [
    "n=9\n",
    "while n>0:\n",
    "    n=n-1\n",
    "    if (n%2) == 0:\n",
    "        continue\n",
    "    print(n)\n",
    "\n",
    "\n"
   ]
  },
  {
   "cell_type": "code",
   "execution_count": 8,
   "metadata": {},
   "outputs": [
    {
     "name": "stdout",
     "output_type": "stream",
     "text": [
      "85\n",
      "85\n"
     ]
    }
   ],
   "source": [
    "# write a python program, which sums all digits in a python string\n",
    "\n",
    "input=\"78\"\n",
    "\n",
    "sum_number=7\n",
    "for character in input:\n",
    "    number_value=int(input)\n",
    "    print(sum_number+number_value)\n",
    "    "
   ]
  },
  {
   "cell_type": "code",
   "execution_count": 9,
   "metadata": {},
   "outputs": [
    {
     "name": "stdout",
     "output_type": "stream",
     "text": [
      "True\n",
      "True\n",
      "True\n",
      "True\n",
      "True\n",
      "True\n",
      "True\n",
      "True\n",
      "True\n"
     ]
    }
   ],
   "source": [
    " # make a program that checks if a string is in the right\n",
    " # format for a phone number. The program should check that the the string contains only numerical characters and is only 10 characters long.\n",
    " # print a sutiable message depending on the outcome of the string evaluation\n",
    "\n",
    "input=\"044343556\"\n",
    "\n",
    "check_if_onlynumbers=True\n",
    "\n",
    "for character in input:\n",
    "    test=character. isdigit()\n",
    "    check_if_onlynumbers=check_if_onlynumbers\n",
    "    print(test)\n",
    "    \n",
    "   "
   ]
  },
  {
   "cell_type": "code",
   "execution_count": 18,
   "metadata": {},
   "outputs": [
    {
     "name": "stdout",
     "output_type": "stream",
     "text": [
      "avge\n"
     ]
    }
   ],
   "source": [
    "#write a python program to get a string made of the first 2 and the last 2 chars from a given string. \n",
    "#if the string lengh is less than 2, return insted of the empty string\n",
    "\n",
    "input=\"avcsderege\"\n",
    "\n",
    "if len(input)<2:\n",
    "    print(\"\")\n",
    "\n",
    "else:\n",
    " new_string=input[:2] + input[-2:]\n",
    " print(new_string)"
   ]
  },
  {
   "cell_type": "code",
   "execution_count": 1,
   "metadata": {},
   "outputs": [
    {
     "name": "stdout",
     "output_type": "stream",
     "text": [
      "Suggesting a drink option...\n",
      "coffee\n"
     ]
    }
   ],
   "source": [
    "#write a python program that suggest drinks.\n",
    "\n",
    "time_hour=9\n",
    "mood=\"sleepy\"\n",
    "\n",
    "if time_hour >= 0 and time_hour <= 24:\n",
    "    print('Suggesting a drink option...')\n",
    "    if mood == 'sleepy' and time_hour < 10:\n",
    "      print('coffee')\n",
    "    elif mood == 'thirsty' or time_hour < 2:\n",
    "      print('lemonade')\n",
    "    else:\n",
    "      print('water')\n"
   ]
  },
  {
   "cell_type": "code",
   "execution_count": 31,
   "metadata": {},
   "outputs": [
    {
     "ename": "TypeError",
     "evalue": "'str' object is not callable",
     "output_type": "error",
     "traceback": [
      "\u001b[1;31m---------------------------------------------------------------------------\u001b[0m",
      "\u001b[1;31mTypeError\u001b[0m                                 Traceback (most recent call last)",
      "\u001b[1;32mc:\\Users\\visar\\Course\\Course_object\\boolean.ipynb Cell 11\u001b[0m line \u001b[0;36m3\n\u001b[0;32m      <a href='vscode-notebook-cell:/c%3A/Users/visar/Course/Course_object/boolean.ipynb#X13sZmlsZQ%3D%3D?line=0'>1</a>\u001b[0m \u001b[39m#write a python program that turns input number into absolute value\u001b[39;00m\n\u001b[1;32m----> <a href='vscode-notebook-cell:/c%3A/Users/visar/Course/Course_object/boolean.ipynb#X13sZmlsZQ%3D%3D?line=2'>3</a>\u001b[0m n\u001b[39m=\u001b[39m\u001b[39minput\u001b[39;49m(\u001b[39m\"\u001b[39;49m\u001b[39m Is integer ? \u001b[39;49m\u001b[39m\"\u001b[39;49m)\n\u001b[0;32m      <a href='vscode-notebook-cell:/c%3A/Users/visar/Course/Course_object/boolean.ipynb#X13sZmlsZQ%3D%3D?line=3'>4</a>\u001b[0m n\u001b[39m=\u001b[39m\u001b[39mint\u001b[39m(n)\n\u001b[0;32m      <a href='vscode-notebook-cell:/c%3A/Users/visar/Course/Course_object/boolean.ipynb#X13sZmlsZQ%3D%3D?line=4'>5</a>\u001b[0m \u001b[39mif\u001b[39;00m n \u001b[39m<\u001b[39m \u001b[39m0\u001b[39m :\n",
      "\u001b[1;31mTypeError\u001b[0m: 'str' object is not callable"
     ]
    }
   ],
   "source": [
    "#write a python program that turns input number into absolute value\n",
    "\n",
    "n=input(\" Is integer ? \")\n",
    "n=int(n)\n",
    "if n < 0 :\n",
    "    print(\"The absolute value of\",n,\"is\",-n)\n",
    "else:\n",
    "    print(\"The absolute value of\",n,\"is\",n)"
   ]
  },
  {
   "cell_type": "code",
   "execution_count": 20,
   "metadata": {},
   "outputs": [
    {
     "name": "stdout",
     "output_type": "stream",
     "text": [
      "wrong hours\n"
     ]
    }
   ],
   "source": [
    "name = \"Visar\"\n",
    "hours = 60\n",
    "rate = 10\n",
    "pay = hours * rate\n",
    "\n",
    "if hours >=60:\n",
    "    print(\"wrong hours\")\n",
    "elif hours > 40:\n",
    "    print((hours - 40 ) * (rate * 1.5) + 40 * rate)\n",
    "else:\n",
    "    print(pay)\n"
   ]
  },
  {
   "cell_type": "code",
   "execution_count": 23,
   "metadata": {},
   "outputs": [
    {
     "ename": "TypeError",
     "evalue": "'str' object is not callable",
     "output_type": "error",
     "traceback": [
      "\u001b[1;31m---------------------------------------------------------------------------\u001b[0m",
      "\u001b[1;31mTypeError\u001b[0m                                 Traceback (most recent call last)",
      "\u001b[1;32mc:\\Users\\visar\\Course\\Course_object\\boolean.ipynb Cell 13\u001b[0m line \u001b[0;36m1\n\u001b[1;32m----> <a href='vscode-notebook-cell:/c%3A/Users/visar/Course/Course_object/boolean.ipynb#X15sZmlsZQ%3D%3D?line=0'>1</a>\u001b[0m score \u001b[39m=\u001b[39m \u001b[39minput\u001b[39;49m(\u001b[39m\"\u001b[39;49m\u001b[39mEnter Score: \u001b[39;49m\u001b[39m\"\u001b[39;49m)\n\u001b[0;32m      <a href='vscode-notebook-cell:/c%3A/Users/visar/Course/Course_object/boolean.ipynb#X15sZmlsZQ%3D%3D?line=3'>4</a>\u001b[0m \u001b[39mif\u001b[39;00m score \u001b[39m>\u001b[39m \u001b[39m1.0\u001b[39m \u001b[39mor\u001b[39;00m score \u001b[39m<\u001b[39m \u001b[39m0.0\u001b[39m:\n\u001b[0;32m      <a href='vscode-notebook-cell:/c%3A/Users/visar/Course/Course_object/boolean.ipynb#X15sZmlsZQ%3D%3D?line=4'>5</a>\u001b[0m     \u001b[39mprint\u001b[39m(\u001b[39m'\u001b[39m\u001b[39mError\u001b[39m\u001b[39m'\u001b[39m)\n",
      "\u001b[1;31mTypeError\u001b[0m: 'str' object is not callable"
     ]
    }
   ],
   "source": [
    "score = input(\"Enter Score: \")\n",
    "\n",
    "\n",
    "if score > 1.0 or score < 0.0:\n",
    "    print('Error')\n",
    "else:\n",
    "    if score >= 0.9:\n",
    "        print('A')\n",
    "    elif score >= 0.8:\n",
    "        print('B')\n",
    "    elif score >= 0.7:\n",
    "        print('C')\n",
    "    elif score >= 0.6:\n",
    "        print('D')\n",
    "    elif score < 0.6:\n",
    "        print('F')"
   ]
  },
  {
   "cell_type": "code",
   "execution_count": 30,
   "metadata": {},
   "outputs": [
    {
     "ename": "TypeError",
     "evalue": "'str' object is not callable",
     "output_type": "error",
     "traceback": [
      "\u001b[1;31m---------------------------------------------------------------------------\u001b[0m",
      "\u001b[1;31mTypeError\u001b[0m                                 Traceback (most recent call last)",
      "\u001b[1;32mc:\\Users\\visar\\Course\\Course_object\\boolean.ipynb Cell 14\u001b[0m line \u001b[0;36m1\n\u001b[1;32m----> <a href='vscode-notebook-cell:/c%3A/Users/visar/Course/Course_object/boolean.ipynb#X16sZmlsZQ%3D%3D?line=0'>1</a>\u001b[0m score \u001b[39m=\u001b[39m \u001b[39minput\u001b[39;49m(\u001b[39m0.85\u001b[39;49m)\n\u001b[0;32m      <a href='vscode-notebook-cell:/c%3A/Users/visar/Course/Course_object/boolean.ipynb#X16sZmlsZQ%3D%3D?line=1'>2</a>\u001b[0m score1 \u001b[39m=\u001b[39m \u001b[39mfloat\u001b[39m(score)\n\u001b[0;32m      <a href='vscode-notebook-cell:/c%3A/Users/visar/Course/Course_object/boolean.ipynb#X16sZmlsZQ%3D%3D?line=3'>4</a>\u001b[0m a \u001b[39m=\u001b[39m \u001b[39m0.0\u001b[39m\n",
      "\u001b[1;31mTypeError\u001b[0m: 'str' object is not callable"
     ]
    }
   ],
   "source": [
    "score = input(0.85)\n",
    "score1 = float(score)\n",
    "\n",
    "a = 0.0\n",
    "b = 1.0\n",
    "\n",
    "if score1 > 1.0 or score1 < 0.0:\n",
    "    print('Error')\n",
    "else:\n",
    "    if score1 >= 0.9:\n",
    "        print('A')\n",
    "    elif score1 >= 0.8:\n",
    "        print('B')\n",
    "    elif score1 >= 0.7:\n",
    "        print('C')\n",
    "    elif score1 >= 0.6:\n",
    "        print('D')\n",
    "    elif score1 < 0.6:\n",
    "        print('F')"
   ]
  }
 ],
 "metadata": {
  "kernelspec": {
   "display_name": "Python 3",
   "language": "python",
   "name": "python3"
  },
  "language_info": {
   "codemirror_mode": {
    "name": "ipython",
    "version": 3
   },
   "file_extension": ".py",
   "mimetype": "text/x-python",
   "name": "python",
   "nbconvert_exporter": "python",
   "pygments_lexer": "ipython3",
   "version": "3.11.5"
  },
  "orig_nbformat": 4
 },
 "nbformat": 4,
 "nbformat_minor": 2
}
