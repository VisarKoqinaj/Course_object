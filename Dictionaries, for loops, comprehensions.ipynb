{
 "cells": [
  {
   "cell_type": "code",
   "execution_count": 13,
   "metadata": {},
   "outputs": [
    {
     "name": "stdout",
     "output_type": "stream",
     "text": [
      "{'hi': 1, 'my': 2, 'name': 2, 'is': 2, 'what': 2}\n"
     ]
    }
   ],
   "source": [
    "# Make a program that has some sentence (a string) on input \n",
    "#and returns a dict containing all unique words as keys and the number of occurrences as values.\n",
    "\n",
    "sentence_input = input(\"please input a sentece:   \")\n",
    "\n",
    "def count_words(sentence):\n",
    "    word_count = {}\n",
    "    words = sentence.split()\n",
    "    for word in words:\n",
    "        if word in word_count:\n",
    "            word_count[word] +=1\n",
    "        else:\n",
    "            word_count[word] = 1\n",
    "    return word_count\n",
    "\n",
    "result = count_words(sentence_input)\n",
    "\n",
    "print(result)\n",
    "\n"
   ]
  },
  {
   "cell_type": "code",
   "execution_count": 16,
   "metadata": {},
   "outputs": [
    {
     "name": "stdout",
     "output_type": "stream",
     "text": [
      "[(1, 1), (2, 4), (3, 9), (4, 16), (5, 25), (6, 36), (7, 49), (8, 64), (9, 81), (10, 100)]\n"
     ]
    }
   ],
   "source": [
    "#List comprehension exercise\n",
    "\n",
    "\n",
    "list_comprehension  = [(i, i ** 2) for i in range(1, 11)]\n",
    "print(list_comprehension)"
   ]
  },
  {
   "cell_type": "code",
   "execution_count": 17,
   "metadata": {},
   "outputs": [
    {
     "name": "stdout",
     "output_type": "stream",
     "text": [
      "9\n"
     ]
    }
   ],
   "source": [
    "x = 10\n",
    "for i in [1,2,3,4,5]:\n",
    "    if i % 2 == 0:\n",
    "        break\n",
    "    x -= i\n",
    "else:\n",
    "    x = 10\n",
    "print(x)"
   ]
  },
  {
   "cell_type": "code",
   "execution_count": null,
   "metadata": {},
   "outputs": [],
   "source": [
    "temp = []\n",
    "for i in range(0, 10):\n",
    "    if i % 2:\n",
    "        continue\n",
    "    temp.append(i)\n",
    "print(sum(temp))"
   ]
  },
  {
   "cell_type": "code",
   "execution_count": 64,
   "metadata": {},
   "outputs": [
    {
     "name": "stdout",
     "output_type": "stream",
     "text": [
      "[['Egzon', 40, 10], ['Artan', 35, 15]]\n"
     ]
    }
   ],
   "source": [
    "employess = [[\"Egzon\",40,10],[\"Artan\",30,15]]\n",
    "\n",
    "employess[1].remove(30)\n",
    "employess[1].insert(1,35)\n",
    "\n",
    "print(employess)"
   ]
  },
  {
   "cell_type": "code",
   "execution_count": 65,
   "metadata": {},
   "outputs": [
    {
     "name": "stdout",
     "output_type": "stream",
     "text": [
      "{'Name': 'visar', 'hours': '10', 'rate': '5'}\n"
     ]
    }
   ],
   "source": [
    "thisdict = {\n",
    "    \"Name\" : \"visar\",\n",
    "    \"hours\": \"10\",\n",
    "    \"rate\" : \"5\"\n",
    "}\n",
    "\n",
    "print(thisdict)"
   ]
  },
  {
   "cell_type": "code",
   "execution_count": null,
   "metadata": {},
   "outputs": [],
   "source": [
    "employees_dict = {\n",
    "    \"Visar\" :{\"h\" :40, \"r\" :15},\n",
    "    \"Artan\" :{\"h\" :40, \"r\" :10}\n",
    "}\n",
    "\n",
    "for name in employees_dict:\n",
    "    h = employees_dict[name][\"h\"]\n",
    "    r = employees_dict[name][\"r\"]\n",
    "\n",
    "    pay = h * r\n",
    "\n",
    "    print(name,pay)"
   ]
  },
  {
   "cell_type": "code",
   "execution_count": null,
   "metadata": {},
   "outputs": [],
   "source": [
    "employess = [[\"Egzon\",40,10],[\"Artan\",30,15]]\n",
    "\n",
    "for emp in employess:\n",
    "    print(emp[1]*emp[2])\n"
   ]
  },
  {
   "cell_type": "code",
   "execution_count": 18,
   "metadata": {},
   "outputs": [
    {
     "name": "stdout",
     "output_type": "stream",
     "text": [
      "PRIT EDHE DO VJET\n"
     ]
    }
   ],
   "source": [
    "def pensionet(mosha):\n",
    "    if mosha >= 65:\n",
    "         print(250)\n",
    "    else:\n",
    "         print(\"PRIT EDHE DO VJET\")\n",
    "\n",
    "age = 60\n",
    "pensionet(age)"
   ]
  },
  {
   "cell_type": "code",
   "execution_count": 20,
   "metadata": {},
   "outputs": [
    {
     "name": "stdout",
     "output_type": "stream",
     "text": [
      "Visar 400\n"
     ]
    }
   ],
   "source": [
    "emri = \"Visar\"\n",
    "hours = 40\n",
    "rate = 10\n",
    "pay = hours * rate\n",
    "print(emri,pay)"
   ]
  },
  {
   "cell_type": "code",
   "execution_count": 31,
   "metadata": {},
   "outputs": [
    {
     "name": "stdout",
     "output_type": "stream",
     "text": [
      "400\n"
     ]
    },
    {
     "data": {
      "text/plain": [
       "40.0"
      ]
     },
     "execution_count": 31,
     "metadata": {},
     "output_type": "execute_result"
    }
   ],
   "source": [
    "\n",
    "def kalkulo_rrogen(emri, hours, rate):\n",
    "    pay = hours * rate\n",
    "    res_dict = {\"Name\":emri, \"wage\":pay}\n",
    "    return(res_dict)\n",
    "\n",
    "kalkulo_rrogen(\"visar\",40,10)\n",
    "rroga_bruto=kalkulo_rrogen(\"visar\",40,10)\n",
    "rroga_bruto=rroga_bruto[\"wage\"]\n",
    "\n",
    "print(rroga_bruto)\n",
    "\n",
    "\n",
    "def kalkulo_tatimin(rroga_bruto, perqindja_tatimi = 0.10):\n",
    "    tatimi = rroga_bruto * perqindja_tatimi\n",
    "    return(tatimi)\n",
    "\n",
    "\n",
    "kalkulo_tatimin(rroga_bruto)\n",
    "\n",
    "\n",
    "\n",
    "\n",
    "\n",
    "\n"
   ]
  },
  {
   "cell_type": "code",
   "execution_count": 36,
   "metadata": {},
   "outputs": [
    {
     "name": "stdout",
     "output_type": "stream",
     "text": [
      "visar 40.0 10.0\n"
     ]
    }
   ],
   "source": [
    "input_var = input(\"Please input name hours and rate:   \")\n",
    "input_var = input_var.split()\n",
    "emri = input_var[0]\n",
    "hours = float(input_var[1])\n",
    "rate = float(input_var[2])\n",
    "\n",
    "print(emri,hours,rate)"
   ]
  },
  {
   "cell_type": "code",
   "execution_count": 7,
   "metadata": {},
   "outputs": [
    {
     "data": {
      "text/plain": [
       "'forty-two'"
      ]
     },
     "execution_count": 7,
     "metadata": {},
     "output_type": "execute_result"
    }
   ],
   "source": [
    "import num2words\n",
    "num2words.num2words(42)\n"
   ]
  },
  {
   "cell_type": "code",
   "execution_count": 3,
   "metadata": {},
   "outputs": [
    {
     "name": "stdout",
     "output_type": "stream",
     "text": [
      "visar 400.0\n",
      "visar 40.0\n"
     ]
    }
   ],
   "source": [
    "input_var = input(\"Please input name hours and rate:   \")\n",
    "input_var = input_var.split()\n",
    "emri = input_var[0]\n",
    "hours = float(input_var[1])\n",
    "rate = float(input_var[2])\n",
    "\n",
    "\n",
    "def kalkulo_rrogen(emri, hours, rate):\n",
    "    pay = hours * rate\n",
    "    res_dict = {\"Name\":emri, \"wage\":pay}\n",
    "    return(res_dict)\n",
    "\n",
    "kalkulo_rrogen(emri,hours,rate)\n",
    "rroga_bruto=kalkulo_rrogen(emri,hours,rate)\n",
    "rroga_bruto=rroga_bruto[\"wage\"]\n",
    "\n",
    "print(emri,rroga_bruto)\n",
    "\n",
    "\n",
    "def kalkulo_tatimin(rroga_bruto, perqindja_tatimi = 0.10):\n",
    "    tatimi = rroga_bruto * perqindja_tatimi\n",
    "    return(tatimi)\n",
    "\n",
    "\n",
    "kalkulo_tatimin(rroga_bruto)\n",
    "tatimi = kalkulo_tatimin(rroga_bruto)\n",
    "print(emri,tatimi)\n",
    "\n"
   ]
  },
  {
   "cell_type": "code",
   "execution_count": 6,
   "metadata": {},
   "outputs": [
    {
     "data": {
      "text/plain": [
       "30.0"
      ]
     },
     "execution_count": 6,
     "metadata": {},
     "output_type": "execute_result"
    }
   ],
   "source": [
    "def convertToFahrenheit(celsius):\n",
    "    fahrenheit = celsius * (9 / 5) + 32\n",
    "    return(fahrenheit)\n",
    "\n",
    "convertToFahrenheit(32)\n",
    "\n",
    "\n",
    "def convertToCelsius(fahrenheit):\n",
    "    celsius = (fahrenheit- 32) * (5 / 9)\n",
    "    return(celsius)\n",
    "\n",
    "convertToCelsius(86)\n"
   ]
  },
  {
   "cell_type": "code",
   "execution_count": null,
   "metadata": {},
   "outputs": [],
   "source": []
  }
 ],
 "metadata": {
  "kernelspec": {
   "display_name": "Python 3",
   "language": "python",
   "name": "python3"
  },
  "language_info": {
   "codemirror_mode": {
    "name": "ipython",
    "version": 3
   },
   "file_extension": ".py",
   "mimetype": "text/x-python",
   "name": "python",
   "nbconvert_exporter": "python",
   "pygments_lexer": "ipython3",
   "version": "3.11.5"
  }
 },
 "nbformat": 4,
 "nbformat_minor": 2
}
