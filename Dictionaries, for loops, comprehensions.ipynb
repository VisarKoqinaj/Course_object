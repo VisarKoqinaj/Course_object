{
 "cells": [
  {
   "cell_type": "code",
   "execution_count": 13,
   "metadata": {},
   "outputs": [
    {
     "name": "stdout",
     "output_type": "stream",
     "text": [
      "{'hi': 1, 'my': 2, 'name': 2, 'is': 2, 'what': 2}\n"
     ]
    }
   ],
   "source": [
    "# Make a program that has some sentence (a string) on input \n",
    "#and returns a dict containing all unique words as keys and the number of occurrences as values.\n",
    "\n",
    "sentence_input = input(\"please input a sentece:   \")\n",
    "\n",
    "def count_words(sentence):\n",
    "    word_count = {}\n",
    "    words = sentence.split()\n",
    "    for word in words:\n",
    "        if word in word_count:\n",
    "            word_count[word] +=1\n",
    "        else:\n",
    "            word_count[word] = 1\n",
    "    return word_count\n",
    "\n",
    "result = count_words(sentence_input)\n",
    "\n",
    "print(result)\n",
    "\n"
   ]
  },
  {
   "cell_type": "code",
   "execution_count": 16,
   "metadata": {},
   "outputs": [
    {
     "name": "stdout",
     "output_type": "stream",
     "text": [
      "[(1, 1), (2, 4), (3, 9), (4, 16), (5, 25), (6, 36), (7, 49), (8, 64), (9, 81), (10, 100)]\n"
     ]
    }
   ],
   "source": [
    "#List comprehension exercise\n",
    "\n",
    "\n",
    "list_comprehension  = [(i, i ** 2) for i in range(1, 11)]\n",
    "print(list_comprehension)"
   ]
  },
  {
   "cell_type": "code",
   "execution_count": 17,
   "metadata": {},
   "outputs": [
    {
     "name": "stdout",
     "output_type": "stream",
     "text": [
      "9\n"
     ]
    }
   ],
   "source": [
    "x = 10\n",
    "for i in [1,2,3,4,5]:\n",
    "    if i % 2 == 0:\n",
    "        break\n",
    "    x -= i\n",
    "else:\n",
    "    x = 10\n",
    "print(x)"
   ]
  },
  {
   "cell_type": "code",
   "execution_count": null,
   "metadata": {},
   "outputs": [],
   "source": [
    "temp = []\n",
    "for i in range(0, 10):\n",
    "    if i % 2:\n",
    "        continue\n",
    "    temp.append(i)\n",
    "print(sum(temp))"
   ]
  },
  {
   "cell_type": "code",
   "execution_count": null,
   "metadata": {},
   "outputs": [],
   "source": [
    "employess = [[\"Egzon\",40,10],[\"Artan\",30,15]]\n",
    "\n",
    "employess[1].remove(30)\n",
    "employess[1].insert(1,35)\n",
    "\n",
    "print(employess)"
   ]
  },
  {
   "cell_type": "code",
   "execution_count": null,
   "metadata": {},
   "outputs": [],
   "source": [
    "thisdict = {\n",
    "    \"Name\" : \"visar\",\n",
    "    \"hours\": \"10\",\n",
    "    \"rate\" : \"5\"\n",
    "}\n",
    "\n",
    "print(thisdict)"
   ]
  },
  {
   "cell_type": "code",
   "execution_count": null,
   "metadata": {},
   "outputs": [],
   "source": [
    "employees_dict = {\n",
    "    \"Visar\" :{\"h\" :40, \"r\" :15},\n",
    "    \"Artan\" :{\"h\" :40, \"r\" :10}\n",
    "}\n",
    "\n",
    "for name in employees_dict:\n",
    "    h = employees_dict[name][\"h\"]\n",
    "    r = employees_dict[name][\"r\"]\n",
    "\n",
    "    pay = h * r\n",
    "\n",
    "    print(name,pay)"
   ]
  },
  {
   "cell_type": "code",
   "execution_count": null,
   "metadata": {},
   "outputs": [],
   "source": [
    "employess = [[\"Egzon\",40,10],[\"Artan\",30,15]]\n",
    "\n",
    "for emp in employess:\n",
    "    print(emp[1]*emp[2])\n"
   ]
  }
 ],
 "metadata": {
  "kernelspec": {
   "display_name": "Python 3",
   "language": "python",
   "name": "python3"
  },
  "language_info": {
   "codemirror_mode": {
    "name": "ipython",
    "version": 3
   },
   "file_extension": ".py",
   "mimetype": "text/x-python",
   "name": "python",
   "nbconvert_exporter": "python",
   "pygments_lexer": "ipython3",
   "version": "3.11.5"
  }
 },
 "nbformat": 4,
 "nbformat_minor": 2
}
