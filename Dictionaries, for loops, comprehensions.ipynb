{
 "cells": [
  {
   "cell_type": "code",
   "execution_count": 13,
   "metadata": {},
   "outputs": [
    {
     "name": "stdout",
     "output_type": "stream",
     "text": [
      "{'hi': 1, 'my': 2, 'name': 2, 'is': 2, 'what': 2}\n"
     ]
    }
   ],
   "source": [
    "# Make a program that has some sentence (a string) on input \n",
    "#and returns a dict containing all unique words as keys and the number of occurrences as values.\n",
    "\n",
    "sentence_input = input(\"please input a sentece:   \")\n",
    "\n",
    "def count_words(sentence):\n",
    "    word_count = {}\n",
    "    words = sentence.split()\n",
    "    for word in words:\n",
    "        if word in word_count:\n",
    "            word_count[word] +=1\n",
    "        else:\n",
    "            word_count[word] = 1\n",
    "    return word_count\n",
    "\n",
    "result = count_words(sentence_input)\n",
    "\n",
    "print(result)\n",
    "\n"
   ]
  },
  {
   "cell_type": "code",
   "execution_count": null,
   "metadata": {},
   "outputs": [],
   "source": []
  }
 ],
 "metadata": {
  "kernelspec": {
   "display_name": "Python 3",
   "language": "python",
   "name": "python3"
  },
  "language_info": {
   "codemirror_mode": {
    "name": "ipython",
    "version": 3
   },
   "file_extension": ".py",
   "mimetype": "text/x-python",
   "name": "python",
   "nbconvert_exporter": "python",
   "pygments_lexer": "ipython3",
   "version": "3.11.5"
  }
 },
 "nbformat": 4,
 "nbformat_minor": 2
}
