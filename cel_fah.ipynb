{
 "cells": [
  {
   "cell_type": "code",
   "execution_count": 24,
   "metadata": {},
   "outputs": [
    {
     "name": "stdout",
     "output_type": "stream",
     "text": [
      "86.0\n",
      "7.222222222222222\n"
     ]
    }
   ],
   "source": [
    "def convertToFahrenheit(celsius):\n",
    "    return celsius * (9 / 5) + 32\n",
    "\n",
    "def convertToCelsius(fahrenheit):\n",
    "    return (fahrenheit- 32) * (5 / 9)\n",
    "   \n",
    "\n",
    "while True:\n",
    "    var_in = input('Please enter value and unit of temperature(\"c\" or \"f\"):  ')\n",
    "    if var_in.lower() == \"stop\":\n",
    "        break\n",
    "    try:   \n",
    "        value, c_f = var_in.split()\n",
    "        value = float(value)\n",
    "        c_f = c_f.lower()\n",
    "        if c_f == 'c':\n",
    "            print(convertToFahrenheit(value))\n",
    "        else:\n",
    "            print(convertToCelsius(value))\n",
    "        \n",
    "    except Exception as e:\n",
    "        print(\"An Error:  \" ,e)\n",
    "\n",
    "\n",
    "\n",
    "\n",
    "\n",
    "\n"
   ]
  },
  {
   "cell_type": "code",
   "execution_count": 15,
   "metadata": {},
   "outputs": [
    {
     "name": "stdout",
     "output_type": "stream",
     "text": [
      "10\n"
     ]
    }
   ],
   "source": [
    "var_in = input('Please enter value and unit of temperature(\"c\" or \"f\"):  ')\n",
    "var_in = var_in.split()\n",
    "a,b=var_in\n",
    "\n",
    "print(a)"
   ]
  },
  {
   "cell_type": "code",
   "execution_count": null,
   "metadata": {},
   "outputs": [],
   "source": [
    "while True:\n",
    "        try:\n",
    "                input_celsius = input('Please input celsius(or \"stop\"):  ')\n",
    "                if input_celsius.lower() =='stop':\n",
    "                        break\n",
    "                input_celsius = int(input_celsius)\n",
    "\n",
    "                def convertToFahrenheit(input_celsius):\n",
    "                        fahrenheit = input_celsius * (9 / 5) + 32\n",
    "                        return(fahrenheit)\n",
    "\n",
    "                convertToFahrenheit(input_celsius)\n",
    "                Celsius_to_Fahrenheit = convertToFahrenheit(input_celsius)\n",
    "                print(Celsius_to_Fahrenheit)\n",
    "\n",
    "        except Exception as e:\n",
    "                print(\"An error occured:   \",e)"
   ]
  }
 ],
 "metadata": {
  "kernelspec": {
   "display_name": "Python 3",
   "language": "python",
   "name": "python3"
  },
  "language_info": {
   "codemirror_mode": {
    "name": "ipython",
    "version": 3
   },
   "file_extension": ".py",
   "mimetype": "text/x-python",
   "name": "python",
   "nbconvert_exporter": "python",
   "pygments_lexer": "ipython3",
   "version": "3.11.5"
  }
 },
 "nbformat": 4,
 "nbformat_minor": 2
}
