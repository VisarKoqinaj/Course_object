{
 "cells": [
  {
   "cell_type": "code",
   "execution_count": 1,
   "metadata": {},
   "outputs": [
    {
     "name": "stdout",
     "output_type": "stream",
     "text": [
      "Number of emails in mbox-short.txt: 27\n"
     ]
    }
   ],
   "source": [
    "def count_emails_in_file(file_name):\n",
    "    with open(file_name, 'r') as file:\n",
    "        count = 0\n",
    "        for line in file:\n",
    "            if line.startswith('From '):\n",
    "                count += 1\n",
    "        return count\n",
    "\n",
    "# Count emails in mbox-short.txt\n",
    "mbox_short_count = count_emails_in_file('Data_in/mbox-short.txt')\n",
    "print(f\"Number of emails in mbox-short.txt: {mbox_short_count}\")\n",
    "\n"
   ]
  }
 ],
 "metadata": {
  "kernelspec": {
   "display_name": "Python 3",
   "language": "python",
   "name": "python3"
  },
  "language_info": {
   "codemirror_mode": {
    "name": "ipython",
    "version": 3
   },
   "file_extension": ".py",
   "mimetype": "text/x-python",
   "name": "python",
   "nbconvert_exporter": "python",
   "pygments_lexer": "ipython3",
   "version": "3.11.5"
  }
 },
 "nbformat": 4,
 "nbformat_minor": 2
}
