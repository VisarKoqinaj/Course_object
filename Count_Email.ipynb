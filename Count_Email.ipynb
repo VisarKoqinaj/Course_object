{
 "cells": [
  {
   "cell_type": "code",
   "execution_count": 1,
   "metadata": {},
   "outputs": [
    {
     "name": "stdout",
     "output_type": "stream",
     "text": [
      "Number of emails in mbox-short.txt: 27\n"
     ]
    }
   ],
   "source": [
    "def count_emails_in_file(file_name):\n",
    "    with open(file_name, 'r') as file:\n",
    "        count = 0\n",
    "        for line in file:\n",
    "            if line.startswith('From '):\n",
    "                count += 1\n",
    "        return count\n",
    "\n",
    "# Count emails in mbox-short.txt\n",
    "mbox_short_count = count_emails_in_file('Data_in/mbox-short.txt')\n",
    "print(f\"Number of emails in mbox-short.txt: {mbox_short_count}\")\n",
    "\n"
   ]
  },
  {
   "cell_type": "code",
   "execution_count": 10,
   "metadata": {},
   "outputs": [
    {
     "name": "stdout",
     "output_type": "stream",
     "text": [
      "Number of occurrences of Author: 27\n"
     ]
    }
   ],
   "source": [
    "def extract_and_count_authors(file_path, output_file_path):\n",
    "    with open(file_path, 'r') as file:\n",
    "        with open(output_file_path, 'w') as output_file:\n",
    "            author_count = 0\n",
    "            for line in file:\n",
    "                if line.lower().startswith('author'):\n",
    "                    author_count += 1\n",
    "                    output_file.write(line)\n",
    "\n",
    "    return author_count\n",
    "\n",
    "\n",
    "input_file_path = 'Data_in/mbox-short.txt'\n",
    "output_file_path = 'Data_in/output.txt'\n",
    "\n",
    "\n",
    "author_count = extract_and_count_authors(input_file_path, output_file_path)\n",
    "\n",
    "print(f\"Number of occurrences of Author: {author_count}\")"
   ]
  },
  {
   "cell_type": "code",
   "execution_count": 31,
   "metadata": {},
   "outputs": [
    {
     "name": "stdout",
     "output_type": "stream",
     "text": [
      "stephen.marquard@uct.ac.za: 2\n",
      "\n",
      "louis@media.berkeley.edu: 3\n",
      "\n",
      "zqian@umich.edu: 4\n",
      "\n",
      "rjlowe@iupui.edu: 2\n",
      "\n",
      "cwen@iupui.edu: 5\n",
      "\n",
      "gsilver@umich.edu: 3\n",
      "\n",
      "wagnermr@iupui.edu: 1\n",
      "\n",
      "antranig@caret.cam.ac.uk: 1\n",
      "\n",
      "gopal.ramasammycook@gmail.com: 1\n",
      "\n",
      "david.horwitz@uct.ac.za: 4\n",
      "\n",
      "ray@media.berkeley.edu: 1\n",
      "\n",
      "uct.ac.za: 6\n",
      "\n",
      "media.berkeley.edu: 4\n",
      "\n",
      "umich.edu: 7\n",
      "\n",
      "iupui.edu: 8\n",
      "\n",
      "caret.cam.ac.uk: 1\n",
      "\n",
      "gmail.com: 1\n",
      "\n"
     ]
    }
   ],
   "source": [
    "file_path = 'Data_in/mbox-short.txt'\n",
    "\n",
    "def count_unique(file_path):\n",
    "    with open(file_path, 'r') as file:\n",
    "        file_content = file.readlines()\n",
    "\n",
    "        email_occurrences = {}\n",
    "        domain_occurrences = {}\n",
    "\n",
    "        for line in file_content:\n",
    "            if line.lower().startswith('author:'):\n",
    "                email = line.split(': ')[1].strip()\n",
    "                domain = line.split('@')[1].strip()\n",
    "                email_occurrences[email] = email_occurrences.get(email, 0) + 1\n",
    "                domain_occurrences[domain] = domain_occurrences.get(domain, 0) + 1\n",
    "\n",
    "    for key, value in email_occurrences.items():\n",
    "            print(f\"{key}: {value}\\n\")\n",
    "\n",
    "    for key, value in domain_occurrences.items():\n",
    "            print(f\"{key}: {value}\\n\")\n",
    "    \n",
    "count_unique(file_path)\n"
   ]
  },
  {
   "cell_type": "code",
   "execution_count": 40,
   "metadata": {},
   "outputs": [
    {
     "data": {
      "text/plain": [
       "0.0"
      ]
     },
     "execution_count": 40,
     "metadata": {},
     "output_type": "execute_result"
    }
   ],
   "source": [
    "file_path = 'Data_in/mbox-short.txt'\n",
    "\n",
    "def count_spam(file_path):\n",
    "    with open(file_path,'r') as file:\n",
    "        file_content = file.readline()\n",
    "\n",
    "        confidance = []\n",
    "\n",
    "        for line in file_content:\n",
    "            if line.startswith('X-DSPAM-Confidence'):\n",
    "                value = line.split(':')[1].strip()\n",
    "                confidance.append(float(value))\n",
    "        \n",
    "        average = sum(confidance)/len(confidance)\n",
    "        return average\n",
    "    \n",
    "count_spam(file_path)\n"
   ]
  },
  {
   "cell_type": "code",
   "execution_count": 41,
   "metadata": {},
   "outputs": [
    {
     "name": "stdout",
     "output_type": "stream",
     "text": [
      "                           Author           Date  X-DSPAM-Confidence  \\\n",
      "0      stephen.marquard@uct.ac.za  2008-01-05 09              0.8475   \n",
      "1        louis@media.berkeley.edu  2008-01-04 18              0.6178   \n",
      "2                 zqian@umich.edu  2008-01-04 16              0.6961   \n",
      "3                rjlowe@iupui.edu  2008-01-04 15              0.7565   \n",
      "4                 zqian@umich.edu  2008-01-04 15              0.7626   \n",
      "5                rjlowe@iupui.edu  2008-01-04 14              0.7556   \n",
      "6                  cwen@iupui.edu  2008-01-04 11              0.7002   \n",
      "7                  cwen@iupui.edu  2008-01-04 11              0.7615   \n",
      "8               gsilver@umich.edu  2008-01-04 11              0.7601   \n",
      "9               gsilver@umich.edu  2008-01-04 11              0.7605   \n",
      "10                zqian@umich.edu  2008-01-04 11              0.6959   \n",
      "11              gsilver@umich.edu  2008-01-04 11              0.7606   \n",
      "12             wagnermr@iupui.edu  2008-01-04 10              0.7559   \n",
      "13                zqian@umich.edu  2008-01-04 10              0.7605   \n",
      "14       antranig@caret.cam.ac.uk  2008-01-04 10              0.6932   \n",
      "15  gopal.ramasammycook@gmail.com  2008-01-04 09              0.7558   \n",
      "16        david.horwitz@uct.ac.za  2008-01-04 07              0.6526   \n",
      "17        david.horwitz@uct.ac.za  2008-01-04 06              0.6948   \n",
      "18        david.horwitz@uct.ac.za  2008-01-04 04              0.6528   \n",
      "19        david.horwitz@uct.ac.za  2008-01-04 04              0.7002   \n",
      "20     stephen.marquard@uct.ac.za  2008-01-04 04              0.7554   \n",
      "21       louis@media.berkeley.edu  2008-01-03 19              0.6956   \n",
      "22       louis@media.berkeley.edu  2008-01-03 17              0.6959   \n",
      "23         ray@media.berkeley.edu  2008-01-03 17              0.7556   \n",
      "24                 cwen@iupui.edu  2008-01-03 16              0.9846   \n",
      "25                 cwen@iupui.edu  2008-01-03 16              0.8509   \n",
      "26                 cwen@iupui.edu  2008-01-03 16              0.9907   \n",
      "\n",
      "                Domain  \n",
      "0            uct.ac.za  \n",
      "1   media.berkeley.edu  \n",
      "2            umich.edu  \n",
      "3            iupui.edu  \n",
      "4            umich.edu  \n",
      "5            iupui.edu  \n",
      "6            iupui.edu  \n",
      "7            iupui.edu  \n",
      "8            umich.edu  \n",
      "9            umich.edu  \n",
      "10           umich.edu  \n",
      "11           umich.edu  \n",
      "12           iupui.edu  \n",
      "13           umich.edu  \n",
      "14     caret.cam.ac.uk  \n",
      "15           gmail.com  \n",
      "16           uct.ac.za  \n",
      "17           uct.ac.za  \n",
      "18           uct.ac.za  \n",
      "19           uct.ac.za  \n",
      "20           uct.ac.za  \n",
      "21  media.berkeley.edu  \n",
      "22  media.berkeley.edu  \n",
      "23  media.berkeley.edu  \n",
      "24           iupui.edu  \n",
      "25           iupui.edu  \n",
      "26           iupui.edu  \n"
     ]
    }
   ],
   "source": [
    "import pandas as pd\n",
    "\n",
    "file_path = 'Data_in/mbox-short.txt'\n",
    "\n",
    "def count_unique(file_path):\n",
    "    with open(file_path, 'r') as file:\n",
    "        file_content = file.readlines()\n",
    "\n",
    "        main_dict = {'Author': [], 'Date': [], 'X-DSPAM-Confidence': [], 'Domain': []}\n",
    "                \n",
    "        for line in file_content:\n",
    "            if line.lower().startswith('author:'):\n",
    "                email = line.split(':')[1].strip()\n",
    "                domain = email.split('@')[1].strip()\n",
    "                main_dict['Author'].append(email)\n",
    "                main_dict['Domain'].append(domain)\n",
    "                \n",
    "            elif line.startswith('X-DSPAM-Confidence'):\n",
    "                spam = float(line.split(':')[1].strip())\n",
    "                main_dict['X-DSPAM-Confidence'].append(spam) \n",
    "                 \n",
    "            elif line.startswith('Date: 2'):\n",
    "                date = line.split(':')[1].strip()\n",
    "                main_dict['Date'].append(date)\n",
    "                \n",
    "                # print(date2)\n",
    "\n",
    "    return main_dict\n",
    "    \n",
    "\n",
    "result = count_unique(file_path)\n",
    "\n",
    "# print(result)\n",
    "\n",
    "df = pd.DataFrame(result)\n",
    "\n",
    "print(df)\n",
    "\n",
    "# # print(len(result['Author']))\n",
    "# # print(len(result['Domain']))\n",
    "# # print(len(result['X-DSPAM-Confidence']))\n",
    "# print(result['Date'])"
   ]
  },
  {
   "cell_type": "code",
   "execution_count": 3,
   "metadata": {},
   "outputs": [
    {
     "name": "stdout",
     "output_type": "stream",
     "text": [
      "-1\n"
     ]
    }
   ],
   "source": [
    " stuff = dict()\n",
    " print(stuff.get('candy',-1))"
   ]
  }
 ],
 "metadata": {
  "kernelspec": {
   "display_name": "Python 3",
   "language": "python",
   "name": "python3"
  },
  "language_info": {
   "codemirror_mode": {
    "name": "ipython",
    "version": 3
   },
   "file_extension": ".py",
   "mimetype": "text/x-python",
   "name": "python",
   "nbconvert_exporter": "python",
   "pygments_lexer": "ipython3",
   "version": "3.11.5"
  }
 },
 "nbformat": 4,
 "nbformat_minor": 2
}
