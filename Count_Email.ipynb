{
 "cells": [
  {
   "cell_type": "code",
   "execution_count": 1,
   "metadata": {},
   "outputs": [
    {
     "name": "stdout",
     "output_type": "stream",
     "text": [
      "Number of emails in mbox-short.txt: 27\n"
     ]
    }
   ],
   "source": [
    "def count_emails_in_file(file_name):\n",
    "    with open(file_name, 'r') as file:\n",
    "        count = 0\n",
    "        for line in file:\n",
    "            if line.startswith('From '):\n",
    "                count += 1\n",
    "        return count\n",
    "\n",
    "# Count emails in mbox-short.txt\n",
    "mbox_short_count = count_emails_in_file('Data_in/mbox-short.txt')\n",
    "print(f\"Number of emails in mbox-short.txt: {mbox_short_count}\")\n",
    "\n"
   ]
  },
  {
   "cell_type": "code",
   "execution_count": 10,
   "metadata": {},
   "outputs": [
    {
     "name": "stdout",
     "output_type": "stream",
     "text": [
      "Number of occurrences of Author: 27\n"
     ]
    }
   ],
   "source": [
    "def extract_and_count_authors(file_path, output_file_path):\n",
    "    with open(file_path, 'r') as file:\n",
    "        with open(output_file_path, 'w') as output_file:\n",
    "            author_count = 0\n",
    "            for line in file:\n",
    "                if line.lower().startswith('author'):\n",
    "                    author_count += 1\n",
    "                    output_file.write(line)\n",
    "\n",
    "    return author_count\n",
    "\n",
    "\n",
    "input_file_path = 'Data_in/mbox-short.txt'\n",
    "output_file_path = 'Data_in/output.txt'\n",
    "\n",
    "\n",
    "author_count = extract_and_count_authors(input_file_path, output_file_path)\n",
    "\n",
    "print(f\"Number of occurrences of Author: {author_count}\")"
   ]
  },
  {
   "cell_type": "code",
   "execution_count": 31,
   "metadata": {},
   "outputs": [
    {
     "name": "stdout",
     "output_type": "stream",
     "text": [
      "stephen.marquard@uct.ac.za: 2\n",
      "\n",
      "louis@media.berkeley.edu: 3\n",
      "\n",
      "zqian@umich.edu: 4\n",
      "\n",
      "rjlowe@iupui.edu: 2\n",
      "\n",
      "cwen@iupui.edu: 5\n",
      "\n",
      "gsilver@umich.edu: 3\n",
      "\n",
      "wagnermr@iupui.edu: 1\n",
      "\n",
      "antranig@caret.cam.ac.uk: 1\n",
      "\n",
      "gopal.ramasammycook@gmail.com: 1\n",
      "\n",
      "david.horwitz@uct.ac.za: 4\n",
      "\n",
      "ray@media.berkeley.edu: 1\n",
      "\n",
      "uct.ac.za: 6\n",
      "\n",
      "media.berkeley.edu: 4\n",
      "\n",
      "umich.edu: 7\n",
      "\n",
      "iupui.edu: 8\n",
      "\n",
      "caret.cam.ac.uk: 1\n",
      "\n",
      "gmail.com: 1\n",
      "\n"
     ]
    }
   ],
   "source": [
    "file_path = 'Data_in/mbox-short.txt'\n",
    "\n",
    "def count_unique(file_path):\n",
    "    with open(file_path, 'r') as file:\n",
    "        file_content = file.readlines()\n",
    "\n",
    "        email_occurrences = {}\n",
    "        domain_occurrences = {}\n",
    "\n",
    "        for line in file_content:\n",
    "            if line.lower().startswith('author:'):\n",
    "                email = line.split(': ')[1].strip()\n",
    "                domain = line.split('@')[1].strip()\n",
    "                email_occurrences[email] = email_occurrences.get(email, 0) + 1\n",
    "                domain_occurrences[domain] = domain_occurrences.get(domain, 0) + 1\n",
    "\n",
    "    for key, value in email_occurrences.items():\n",
    "            print(f\"{key}: {value}\\n\")\n",
    "\n",
    "    for key, value in domain_occurrences.items():\n",
    "            print(f\"{key}: {value}\\n\")\n",
    "    \n",
    "count_unique(file_path)\n"
   ]
  },
  {
   "cell_type": "code",
   "execution_count": null,
   "metadata": {},
   "outputs": [],
   "source": [
    "def count_spam(file_path):\n",
    "    with open(file_path,'r') as file:\n",
    "        file_content = file.readline()\n",
    "\n",
    "        confidance = []\n",
    "\n",
    "        for line in file_content:\n",
    "            if line.startswith('X-DSPAM-Confidence'):\n",
    "                value = line.split(':')[1].strip()\n",
    "                confidance.append(float(value))\n",
    "        \n",
    "        average = sum(confidance)/len(confidance)\n",
    "        return average\n",
    "    \n",
    "\n",
    "count_spam()\n",
    "\n",
    "\n",
    "        \n",
    "    "
   ]
  },
  {
   "cell_type": "code",
   "execution_count": null,
   "metadata": {},
   "outputs": [],
   "source": [
    "import pandas as pd\n",
    "\n",
    "file_path = 'mbox-short.txt'\n",
    "\n",
    "def count_unique(file_path):\n",
    "    with open(file_path, 'r') as file:\n",
    "        file_content = file.readlines()\n",
    "\n",
    "        main_dict = {'Author': [], 'Date': [], 'X-DSPAM-Confidence': [], 'Domain': []}\n",
    "                \n",
    "        for line in file_content:\n",
    "            if line.lower().startswith('author:'):\n",
    "                email = line.split(':')[1].strip()\n",
    "                domain = email.split('@')[1].strip()\n",
    "                main_dict['Author'].append(email)\n",
    "                main_dict['Domain'].append(domain)\n",
    "                \n",
    "            elif line.startswith('X-DSPAM-Confidence'):\n",
    "                spam = float(line.split(':')[1].strip())\n",
    "                main_dict['X-DSPAM-Confidence'].append(spam)  \n",
    "            elif line.startswith('Date: 2'):\n",
    "                date = line.split(':')[1].strip()\n",
    "                \n",
    "                main_dict['Date'].append(date)\n",
    "                \n",
    "                # print(date2)\n",
    "\n",
    "    return main_dict\n",
    "    \n",
    "\n",
    "result = count_unique(file_path)\n",
    "\n",
    "# print(result)\n",
    "\n",
    "df = pd.DataFrame(result)\n",
    "\n",
    "print(df)\n",
    "\n",
    "# # print(len(result['Author']))\n",
    "# # print(len(result['Domain']))\n",
    "# # print(len(result['X-DSPAM-Confidence']))\n",
    "# print(result['Date'])"
   ]
  }
 ],
 "metadata": {
  "kernelspec": {
   "display_name": "Python 3",
   "language": "python",
   "name": "python3"
  },
  "language_info": {
   "codemirror_mode": {
    "name": "ipython",
    "version": 3
   },
   "file_extension": ".py",
   "mimetype": "text/x-python",
   "name": "python",
   "nbconvert_exporter": "python",
   "pygments_lexer": "ipython3",
   "version": "3.11.5"
  }
 },
 "nbformat": 4,
 "nbformat_minor": 2
}
